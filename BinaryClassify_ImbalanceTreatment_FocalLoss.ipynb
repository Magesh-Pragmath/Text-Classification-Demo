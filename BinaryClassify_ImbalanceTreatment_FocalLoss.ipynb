{
  "nbformat": 4,
  "nbformat_minor": 0,
  "metadata": {
    "kernelspec": {
      "name": "python3",
      "display_name": "Python 3"
    },
    "language_info": {
      "name": "python"
    },
    "accelerator": "GPU"
  },
  "cells": [
    {
      "cell_type": "markdown",
      "source": [
        "## \ud83e\udde0 Notebook Context \u2013 Real vs. Fake Review Classification with BERT (Using Focal Loss)\n",
        "This notebook trains a binary classification model using the bert-base-cased transformer to distinguish between real and fake reviews, with a focus on mitigating the class imbalance problem via Focal Loss.\n",
        "\n",
        "### \ud83d\udcca Dataset Overview\n",
        "- Total Samples: 20,000\n",
        "- Class Distribution: 90% real (majority), 10% fake (minority)\n",
        "- Source: Synthetic data generated using ChatGPT\n",
        "- Imbalance Strategy: In this version, Focal Loss is used as a loss function to make the model focus more on the minority class (fake reviews).\n",
        "\n",
        "### \ud83c\udfaf What is Focal Loss?\n",
        "Focal Loss is a modification of the standard cross-entropy loss that helps address class imbalance by down-weighting easy examples and focusing more on hard, misclassified examples. Here\u2019s how it works:\n",
        "\n",
        "Formula:Focal Loss = -(1 - p\u209c)^\u03b3 * log(p\u209c)\n",
        "\n",
        "Effect:\n",
        "- Reduce the loss contribution from well-classified examples (where p\u209c is high)\n",
        "- Amplifies the importance of misclassified or hard examples, especially those from the minority class\n",
        "- This allows the model to pay more attention to fake reviews without any sampling or weight tricks.\n",
        "\n",
        "### \ud83e\udde0 Model Architecture\n",
        "- Model: Hugging Face bert-base-cased\n",
        "- Loss Function: Custom implementation of Focal Loss replaces standard cross-entropy\n",
        "- Goal: Emphasize learning from hard examples (typically, the minority/fake reviews)\n",
        "\n",
        "### \ud83d\udcc8 Evaluation Metrics\n",
        "To evaluate performance in the imbalanced setting, the following metrics are used:\n",
        "\n",
        "- Confusion Matrix\n",
        "- Accuracy (included for completeness; not reliable here)\n",
        "- Precision\n",
        "- Recall\n",
        "- F1 Score\n",
        "- ROC Curve\n",
        "- PR (Precision-Recall) Curve\n",
        "\n",
        "\u26a0\ufe0f Note: Because of the class imbalance, accuracy and ROC AUC can be misleading. PR Curve and F1 Score are more reliable indicators of performance on the minority class. Focal Loss improves minority class recognition by reducing the dominance of well-predicted majority samples during training.\n",
        "\n"
      ],
      "metadata": {
        "id": "CM1UAwRYeRlR"
      }
    },
    {
      "cell_type": "markdown",
      "source": [
        "## Import Libraries"
      ],
      "metadata": {
        "id": "RYEIW4cgv5tW"
      }
    },
    {
      "cell_type": "code",
      "execution_count": 1,
      "metadata": {
        "colab": {
          "base_uri": "https://localhost:8080/"
        },
        "id": "5uiNiVGLuV9_",
        "outputId": "c8f9f855-b8e6-48d1-ff52-63df03be0297"
      },
      "outputs": [
        {
          "output_type": "stream",
          "name": "stdout",
          "text": [
            "Collecting datasets\n",
            "  Downloading datasets-3.5.1-py3-none-any.whl.metadata (19 kB)\n",
            "Requirement already satisfied: filelock in /usr/local/lib/python3.11/dist-packages (from datasets) (3.18.0)\n",
            "Requirement already satisfied: numpy>=1.17 in /usr/local/lib/python3.11/dist-packages (from datasets) (2.0.2)\n",
            "Requirement already satisfied: pyarrow>=15.0.0 in /usr/local/lib/python3.11/dist-packages (from datasets) (18.1.0)\n",
            "Collecting dill<0.3.9,>=0.3.0 (from datasets)\n",
            "  Downloading dill-0.3.8-py3-none-any.whl.metadata (10 kB)\n",
            "Requirement already satisfied: pandas in /usr/local/lib/python3.11/dist-packages (from datasets) (2.2.2)\n",
            "Requirement already satisfied: requests>=2.32.2 in /usr/local/lib/python3.11/dist-packages (from datasets) (2.32.3)\n",
            "Requirement already satisfied: tqdm>=4.66.3 in /usr/local/lib/python3.11/dist-packages (from datasets) (4.67.1)\n",
            "Collecting xxhash (from datasets)\n",
            "  Downloading xxhash-3.5.0-cp311-cp311-manylinux_2_17_x86_64.manylinux2014_x86_64.whl.metadata (12 kB)\n",
            "Collecting multiprocess<0.70.17 (from datasets)\n",
            "  Downloading multiprocess-0.70.16-py311-none-any.whl.metadata (7.2 kB)\n",
            "Collecting fsspec<=2025.3.0,>=2023.1.0 (from fsspec[http]<=2025.3.0,>=2023.1.0->datasets)\n",
            "  Downloading fsspec-2025.3.0-py3-none-any.whl.metadata (11 kB)\n",
            "Requirement already satisfied: aiohttp in /usr/local/lib/python3.11/dist-packages (from datasets) (3.11.15)\n",
            "Requirement already satisfied: huggingface-hub>=0.24.0 in /usr/local/lib/python3.11/dist-packages (from datasets) (0.30.2)\n",
            "Requirement already satisfied: packaging in /usr/local/lib/python3.11/dist-packages (from datasets) (24.2)\n",
            "Requirement already satisfied: pyyaml>=5.1 in /usr/local/lib/python3.11/dist-packages (from datasets) (6.0.2)\n",
            "Requirement already satisfied: aiohappyeyeballs>=2.3.0 in /usr/local/lib/python3.11/dist-packages (from aiohttp->datasets) (2.6.1)\n",
            "Requirement already satisfied: aiosignal>=1.1.2 in /usr/local/lib/python3.11/dist-packages (from aiohttp->datasets) (1.3.2)\n",
            "Requirement already satisfied: attrs>=17.3.0 in /usr/local/lib/python3.11/dist-packages (from aiohttp->datasets) (25.3.0)\n",
            "Requirement already satisfied: frozenlist>=1.1.1 in /usr/local/lib/python3.11/dist-packages (from aiohttp->datasets) (1.6.0)\n",
            "Requirement already satisfied: multidict<7.0,>=4.5 in /usr/local/lib/python3.11/dist-packages (from aiohttp->datasets) (6.4.3)\n",
            "Requirement already satisfied: propcache>=0.2.0 in /usr/local/lib/python3.11/dist-packages (from aiohttp->datasets) (0.3.1)\n",
            "Requirement already satisfied: yarl<2.0,>=1.17.0 in /usr/local/lib/python3.11/dist-packages (from aiohttp->datasets) (1.20.0)\n",
            "Requirement already satisfied: typing-extensions>=3.7.4.3 in /usr/local/lib/python3.11/dist-packages (from huggingface-hub>=0.24.0->datasets) (4.13.2)\n",
            "Requirement already satisfied: charset-normalizer<4,>=2 in /usr/local/lib/python3.11/dist-packages (from requests>=2.32.2->datasets) (3.4.1)\n",
            "Requirement already satisfied: idna<4,>=2.5 in /usr/local/lib/python3.11/dist-packages (from requests>=2.32.2->datasets) (3.10)\n",
            "Requirement already satisfied: urllib3<3,>=1.21.1 in /usr/local/lib/python3.11/dist-packages (from requests>=2.32.2->datasets) (2.4.0)\n",
            "Requirement already satisfied: certifi>=2017.4.17 in /usr/local/lib/python3.11/dist-packages (from requests>=2.32.2->datasets) (2025.1.31)\n",
            "Requirement already satisfied: python-dateutil>=2.8.2 in /usr/local/lib/python3.11/dist-packages (from pandas->datasets) (2.9.0.post0)\n",
            "Requirement already satisfied: pytz>=2020.1 in /usr/local/lib/python3.11/dist-packages (from pandas->datasets) (2025.2)\n",
            "Requirement already satisfied: tzdata>=2022.7 in /usr/local/lib/python3.11/dist-packages (from pandas->datasets) (2025.2)\n",
            "Requirement already satisfied: six>=1.5 in /usr/local/lib/python3.11/dist-packages (from python-dateutil>=2.8.2->pandas->datasets) (1.17.0)\n",
            "Downloading datasets-3.5.1-py3-none-any.whl (491 kB)\n",
            "\u001b[2K   \u001b[90m\u2501\u2501\u2501\u2501\u2501\u2501\u2501\u2501\u2501\u2501\u2501\u2501\u2501\u2501\u2501\u2501\u2501\u2501\u2501\u2501\u2501\u2501\u2501\u2501\u2501\u2501\u2501\u2501\u2501\u2501\u2501\u2501\u2501\u2501\u2501\u2501\u2501\u2501\u2501\u2501\u001b[0m \u001b[32m491.4/491.4 kB\u001b[0m \u001b[31m15.2 MB/s\u001b[0m eta \u001b[36m0:00:00\u001b[0m\n",
            "\u001b[?25hDownloading dill-0.3.8-py3-none-any.whl (116 kB)\n",
            "\u001b[2K   \u001b[90m\u2501\u2501\u2501\u2501\u2501\u2501\u2501\u2501\u2501\u2501\u2501\u2501\u2501\u2501\u2501\u2501\u2501\u2501\u2501\u2501\u2501\u2501\u2501\u2501\u2501\u2501\u2501\u2501\u2501\u2501\u2501\u2501\u2501\u2501\u2501\u2501\u2501\u2501\u2501\u2501\u001b[0m \u001b[32m116.3/116.3 kB\u001b[0m \u001b[31m10.6 MB/s\u001b[0m eta \u001b[36m0:00:00\u001b[0m\n",
            "\u001b[?25hDownloading fsspec-2025.3.0-py3-none-any.whl (193 kB)\n",
            "\u001b[2K   \u001b[90m\u2501\u2501\u2501\u2501\u2501\u2501\u2501\u2501\u2501\u2501\u2501\u2501\u2501\u2501\u2501\u2501\u2501\u2501\u2501\u2501\u2501\u2501\u2501\u2501\u2501\u2501\u2501\u2501\u2501\u2501\u2501\u2501\u2501\u2501\u2501\u2501\u2501\u2501\u2501\u2501\u001b[0m \u001b[32m193.6/193.6 kB\u001b[0m \u001b[31m18.9 MB/s\u001b[0m eta \u001b[36m0:00:00\u001b[0m\n",
            "\u001b[?25hDownloading multiprocess-0.70.16-py311-none-any.whl (143 kB)\n",
            "\u001b[2K   \u001b[90m\u2501\u2501\u2501\u2501\u2501\u2501\u2501\u2501\u2501\u2501\u2501\u2501\u2501\u2501\u2501\u2501\u2501\u2501\u2501\u2501\u2501\u2501\u2501\u2501\u2501\u2501\u2501\u2501\u2501\u2501\u2501\u2501\u2501\u2501\u2501\u2501\u2501\u2501\u2501\u2501\u001b[0m \u001b[32m143.5/143.5 kB\u001b[0m \u001b[31m11.5 MB/s\u001b[0m eta \u001b[36m0:00:00\u001b[0m\n",
            "\u001b[?25hDownloading xxhash-3.5.0-cp311-cp311-manylinux_2_17_x86_64.manylinux2014_x86_64.whl (194 kB)\n",
            "\u001b[2K   \u001b[90m\u2501\u2501\u2501\u2501\u2501\u2501\u2501\u2501\u2501\u2501\u2501\u2501\u2501\u2501\u2501\u2501\u2501\u2501\u2501\u2501\u2501\u2501\u2501\u2501\u2501\u2501\u2501\u2501\u2501\u2501\u2501\u2501\u2501\u2501\u2501\u2501\u2501\u2501\u2501\u2501\u001b[0m \u001b[32m194.8/194.8 kB\u001b[0m \u001b[31m13.6 MB/s\u001b[0m eta \u001b[36m0:00:00\u001b[0m\n",
            "\u001b[?25hInstalling collected packages: xxhash, fsspec, dill, multiprocess, datasets\n",
            "  Attempting uninstall: fsspec\n",
            "    Found existing installation: fsspec 2025.3.2\n",
            "    Uninstalling fsspec-2025.3.2:\n",
            "      Successfully uninstalled fsspec-2025.3.2\n",
            "\u001b[31mERROR: pip's dependency resolver does not currently take into account all the packages that are installed. This behaviour is the source of the following dependency conflicts.\n",
            "torch 2.6.0+cu124 requires nvidia-cublas-cu12==12.4.5.8; platform_system == \"Linux\" and platform_machine == \"x86_64\", but you have nvidia-cublas-cu12 12.5.3.2 which is incompatible.\n",
            "torch 2.6.0+cu124 requires nvidia-cuda-cupti-cu12==12.4.127; platform_system == \"Linux\" and platform_machine == \"x86_64\", but you have nvidia-cuda-cupti-cu12 12.5.82 which is incompatible.\n",
            "torch 2.6.0+cu124 requires nvidia-cuda-nvrtc-cu12==12.4.127; platform_system == \"Linux\" and platform_machine == \"x86_64\", but you have nvidia-cuda-nvrtc-cu12 12.5.82 which is incompatible.\n",
            "torch 2.6.0+cu124 requires nvidia-cuda-runtime-cu12==12.4.127; platform_system == \"Linux\" and platform_machine == \"x86_64\", but you have nvidia-cuda-runtime-cu12 12.5.82 which is incompatible.\n",
            "torch 2.6.0+cu124 requires nvidia-cudnn-cu12==9.1.0.70; platform_system == \"Linux\" and platform_machine == \"x86_64\", but you have nvidia-cudnn-cu12 9.3.0.75 which is incompatible.\n",
            "torch 2.6.0+cu124 requires nvidia-cufft-cu12==11.2.1.3; platform_system == \"Linux\" and platform_machine == \"x86_64\", but you have nvidia-cufft-cu12 11.2.3.61 which is incompatible.\n",
            "torch 2.6.0+cu124 requires nvidia-curand-cu12==10.3.5.147; platform_system == \"Linux\" and platform_machine == \"x86_64\", but you have nvidia-curand-cu12 10.3.6.82 which is incompatible.\n",
            "torch 2.6.0+cu124 requires nvidia-cusolver-cu12==11.6.1.9; platform_system == \"Linux\" and platform_machine == \"x86_64\", but you have nvidia-cusolver-cu12 11.6.3.83 which is incompatible.\n",
            "torch 2.6.0+cu124 requires nvidia-cusparse-cu12==12.3.1.170; platform_system == \"Linux\" and platform_machine == \"x86_64\", but you have nvidia-cusparse-cu12 12.5.1.3 which is incompatible.\n",
            "torch 2.6.0+cu124 requires nvidia-nvjitlink-cu12==12.4.127; platform_system == \"Linux\" and platform_machine == \"x86_64\", but you have nvidia-nvjitlink-cu12 12.5.82 which is incompatible.\n",
            "gcsfs 2025.3.2 requires fsspec==2025.3.2, but you have fsspec 2025.3.0 which is incompatible.\u001b[0m\u001b[31m\n",
            "\u001b[0mSuccessfully installed datasets-3.5.1 dill-0.3.8 fsspec-2025.3.0 multiprocess-0.70.16 xxhash-3.5.0\n"
          ]
        }
      ],
      "source": [
        "!pip install datasets"
      ]
    },
    {
      "cell_type": "code",
      "source": [
        "!pip install evaluate"
      ],
      "metadata": {
        "colab": {
          "base_uri": "https://localhost:8080/"
        },
        "id": "iCSQWXXOv8f6",
        "outputId": "58999cb0-3e20-486c-a43d-25515a67ef11"
      },
      "execution_count": 2,
      "outputs": [
        {
          "output_type": "stream",
          "name": "stdout",
          "text": [
            "Collecting evaluate\n",
            "  Downloading evaluate-0.4.3-py3-none-any.whl.metadata (9.2 kB)\n",
            "Requirement already satisfied: datasets>=2.0.0 in /usr/local/lib/python3.11/dist-packages (from evaluate) (3.5.1)\n",
            "Requirement already satisfied: numpy>=1.17 in /usr/local/lib/python3.11/dist-packages (from evaluate) (2.0.2)\n",
            "Requirement already satisfied: dill in /usr/local/lib/python3.11/dist-packages (from evaluate) (0.3.8)\n",
            "Requirement already satisfied: pandas in /usr/local/lib/python3.11/dist-packages (from evaluate) (2.2.2)\n",
            "Requirement already satisfied: requests>=2.19.0 in /usr/local/lib/python3.11/dist-packages (from evaluate) (2.32.3)\n",
            "Requirement already satisfied: tqdm>=4.62.1 in /usr/local/lib/python3.11/dist-packages (from evaluate) (4.67.1)\n",
            "Requirement already satisfied: xxhash in /usr/local/lib/python3.11/dist-packages (from evaluate) (3.5.0)\n",
            "Requirement already satisfied: multiprocess in /usr/local/lib/python3.11/dist-packages (from evaluate) (0.70.16)\n",
            "Requirement already satisfied: fsspec>=2021.05.0 in /usr/local/lib/python3.11/dist-packages (from fsspec[http]>=2021.05.0->evaluate) (2025.3.0)\n",
            "Requirement already satisfied: huggingface-hub>=0.7.0 in /usr/local/lib/python3.11/dist-packages (from evaluate) (0.30.2)\n",
            "Requirement already satisfied: packaging in /usr/local/lib/python3.11/dist-packages (from evaluate) (24.2)\n",
            "Requirement already satisfied: filelock in /usr/local/lib/python3.11/dist-packages (from datasets>=2.0.0->evaluate) (3.18.0)\n",
            "Requirement already satisfied: pyarrow>=15.0.0 in /usr/local/lib/python3.11/dist-packages (from datasets>=2.0.0->evaluate) (18.1.0)\n",
            "Requirement already satisfied: aiohttp in /usr/local/lib/python3.11/dist-packages (from datasets>=2.0.0->evaluate) (3.11.15)\n",
            "Requirement already satisfied: pyyaml>=5.1 in /usr/local/lib/python3.11/dist-packages (from datasets>=2.0.0->evaluate) (6.0.2)\n",
            "Requirement already satisfied: typing-extensions>=3.7.4.3 in /usr/local/lib/python3.11/dist-packages (from huggingface-hub>=0.7.0->evaluate) (4.13.2)\n",
            "Requirement already satisfied: charset-normalizer<4,>=2 in /usr/local/lib/python3.11/dist-packages (from requests>=2.19.0->evaluate) (3.4.1)\n",
            "Requirement already satisfied: idna<4,>=2.5 in /usr/local/lib/python3.11/dist-packages (from requests>=2.19.0->evaluate) (3.10)\n",
            "Requirement already satisfied: urllib3<3,>=1.21.1 in /usr/local/lib/python3.11/dist-packages (from requests>=2.19.0->evaluate) (2.4.0)\n",
            "Requirement already satisfied: certifi>=2017.4.17 in /usr/local/lib/python3.11/dist-packages (from requests>=2.19.0->evaluate) (2025.1.31)\n",
            "Requirement already satisfied: python-dateutil>=2.8.2 in /usr/local/lib/python3.11/dist-packages (from pandas->evaluate) (2.9.0.post0)\n",
            "Requirement already satisfied: pytz>=2020.1 in /usr/local/lib/python3.11/dist-packages (from pandas->evaluate) (2025.2)\n",
            "Requirement already satisfied: tzdata>=2022.7 in /usr/local/lib/python3.11/dist-packages (from pandas->evaluate) (2025.2)\n",
            "Requirement already satisfied: aiohappyeyeballs>=2.3.0 in /usr/local/lib/python3.11/dist-packages (from aiohttp->datasets>=2.0.0->evaluate) (2.6.1)\n",
            "Requirement already satisfied: aiosignal>=1.1.2 in /usr/local/lib/python3.11/dist-packages (from aiohttp->datasets>=2.0.0->evaluate) (1.3.2)\n",
            "Requirement already satisfied: attrs>=17.3.0 in /usr/local/lib/python3.11/dist-packages (from aiohttp->datasets>=2.0.0->evaluate) (25.3.0)\n",
            "Requirement already satisfied: frozenlist>=1.1.1 in /usr/local/lib/python3.11/dist-packages (from aiohttp->datasets>=2.0.0->evaluate) (1.6.0)\n",
            "Requirement already satisfied: multidict<7.0,>=4.5 in /usr/local/lib/python3.11/dist-packages (from aiohttp->datasets>=2.0.0->evaluate) (6.4.3)\n",
            "Requirement already satisfied: propcache>=0.2.0 in /usr/local/lib/python3.11/dist-packages (from aiohttp->datasets>=2.0.0->evaluate) (0.3.1)\n",
            "Requirement already satisfied: yarl<2.0,>=1.17.0 in /usr/local/lib/python3.11/dist-packages (from aiohttp->datasets>=2.0.0->evaluate) (1.20.0)\n",
            "Requirement already satisfied: six>=1.5 in /usr/local/lib/python3.11/dist-packages (from python-dateutil>=2.8.2->pandas->evaluate) (1.17.0)\n",
            "Downloading evaluate-0.4.3-py3-none-any.whl (84 kB)\n",
            "\u001b[2K   \u001b[90m\u2501\u2501\u2501\u2501\u2501\u2501\u2501\u2501\u2501\u2501\u2501\u2501\u2501\u2501\u2501\u2501\u2501\u2501\u2501\u2501\u2501\u2501\u2501\u2501\u2501\u2501\u2501\u2501\u2501\u2501\u2501\u2501\u2501\u2501\u2501\u2501\u2501\u2501\u2501\u2501\u001b[0m \u001b[32m84.0/84.0 kB\u001b[0m \u001b[31m7.1 MB/s\u001b[0m eta \u001b[36m0:00:00\u001b[0m\n",
            "\u001b[?25hInstalling collected packages: evaluate\n",
            "Successfully installed evaluate-0.4.3\n"
          ]
        }
      ]
    },
    {
      "cell_type": "code",
      "source": [
        "from datasets import load_dataset\n",
        "from transformers import AutoTokenizer, AutoModelForSequenceClassification, Trainer, TrainingArguments\n",
        "from datasets import load_dataset, Dataset, DatasetDict\n",
        "import torch\n",
        "import torch.nn as nn\n",
        "import numpy as np\n",
        "from sklearn.metrics import accuracy_score, f1_score\n",
        "from transformers import DataCollatorWithPadding\n",
        "import pandas as pd\n",
        "from google.colab import files\n",
        "import io\n",
        "from collections import Counter\n",
        "from transformers import Trainer"
      ],
      "metadata": {
        "id": "qi4yOg25wN3A"
      },
      "execution_count": 3,
      "outputs": []
    },
    {
      "cell_type": "markdown",
      "source": [
        "## Import Dataset, Then split and convert to DataDict"
      ],
      "metadata": {
        "id": "TO5HxAqLzAHw"
      }
    },
    {
      "cell_type": "code",
      "source": [
        "# Step 1: Upload a file from your local machine\n",
        "uploaded = files.upload()\n",
        "\n",
        "# Step 2: Read the uploaded file into a pandas DataFrame\n",
        "# Assuming the uploaded file is a CSV\n",
        "for filename in uploaded.keys():\n",
        "    print(f\"Reading file: {filename}\")\n",
        "    df = pd.read_csv(io.BytesIO(uploaded[filename]))\n",
        "    break  # Only read the first file uploaded\n",
        "\n",
        "# Step 3: Display the first few rows of the DataFrame\n",
        "df.head()"
      ],
      "metadata": {
        "colab": {
          "base_uri": "https://localhost:8080/",
          "height": 280
        },
        "id": "XZpmNfVoxGux",
        "outputId": "fe32103f-21f0-48db-8130-03b598cef176"
      },
      "execution_count": 4,
      "outputs": [
        {
          "output_type": "display_data",
          "data": {
            "text/plain": [
              "<IPython.core.display.HTML object>"
            ],
            "text/html": [
              "\n",
              "     <input type=\"file\" id=\"files-1f1f3959-ce59-4fe5-a587-fe0c56e75825\" name=\"files[]\" multiple disabled\n",
              "        style=\"border:none\" />\n",
              "     <output id=\"result-1f1f3959-ce59-4fe5-a587-fe0c56e75825\">\n",
              "      Upload widget is only available when the cell has been executed in the\n",
              "      current browser session. Please rerun this cell to enable.\n",
              "      </output>\n",
              "      <script>// Copyright 2017 Google LLC\n",
              "//\n",
              "// Licensed under the Apache License, Version 2.0 (the \"License\");\n",
              "// you may not use this file except in compliance with the License.\n",
              "// You may obtain a copy of the License at\n",
              "//\n",
              "//      http://www.apache.org/licenses/LICENSE-2.0\n",
              "//\n",
              "// Unless required by applicable law or agreed to in writing, software\n",
              "// distributed under the License is distributed on an \"AS IS\" BASIS,\n",
              "// WITHOUT WARRANTIES OR CONDITIONS OF ANY KIND, either express or implied.\n",
              "// See the License for the specific language governing permissions and\n",
              "// limitations under the License.\n",
              "\n",
              "/**\n",
              " * @fileoverview Helpers for google.colab Python module.\n",
              " */\n",
              "(function(scope) {\n",
              "function span(text, styleAttributes = {}) {\n",
              "  const element = document.createElement('span');\n",
              "  element.textContent = text;\n",
              "  for (const key of Object.keys(styleAttributes)) {\n",
              "    element.style[key] = styleAttributes[key];\n",
              "  }\n",
              "  return element;\n",
              "}\n",
              "\n",
              "// Max number of bytes which will be uploaded at a time.\n",
              "const MAX_PAYLOAD_SIZE = 100 * 1024;\n",
              "\n",
              "function _uploadFiles(inputId, outputId) {\n",
              "  const steps = uploadFilesStep(inputId, outputId);\n",
              "  const outputElement = document.getElementById(outputId);\n",
              "  // Cache steps on the outputElement to make it available for the next call\n",
              "  // to uploadFilesContinue from Python.\n",
              "  outputElement.steps = steps;\n",
              "\n",
              "  return _uploadFilesContinue(outputId);\n",
              "}\n",
              "\n",
              "// This is roughly an async generator (not supported in the browser yet),\n",
              "// where there are multiple asynchronous steps and the Python side is going\n",
              "// to poll for completion of each step.\n",
              "// This uses a Promise to block the python side on completion of each step,\n",
              "// then passes the result of the previous step as the input to the next step.\n",
              "function _uploadFilesContinue(outputId) {\n",
              "  const outputElement = document.getElementById(outputId);\n",
              "  const steps = outputElement.steps;\n",
              "\n",
              "  const next = steps.next(outputElement.lastPromiseValue);\n",
              "  return Promise.resolve(next.value.promise).then((value) => {\n",
              "    // Cache the last promise value to make it available to the next\n",
              "    // step of the generator.\n",
              "    outputElement.lastPromiseValue = value;\n",
              "    return next.value.response;\n",
              "  });\n",
              "}\n",
              "\n",
              "/**\n",
              " * Generator function which is called between each async step of the upload\n",
              " * process.\n",
              " * @param {string} inputId Element ID of the input file picker element.\n",
              " * @param {string} outputId Element ID of the output display.\n",
              " * @return {!Iterable<!Object>} Iterable of next steps.\n",
              " */\n",
              "function* uploadFilesStep(inputId, outputId) {\n",
              "  const inputElement = document.getElementById(inputId);\n",
              "  inputElement.disabled = false;\n",
              "\n",
              "  const outputElement = document.getElementById(outputId);\n",
              "  outputElement.innerHTML = '';\n",
              "\n",
              "  const pickedPromise = new Promise((resolve) => {\n",
              "    inputElement.addEventListener('change', (e) => {\n",
              "      resolve(e.target.files);\n",
              "    });\n",
              "  });\n",
              "\n",
              "  const cancel = document.createElement('button');\n",
              "  inputElement.parentElement.appendChild(cancel);\n",
              "  cancel.textContent = 'Cancel upload';\n",
              "  const cancelPromise = new Promise((resolve) => {\n",
              "    cancel.onclick = () => {\n",
              "      resolve(null);\n",
              "    };\n",
              "  });\n",
              "\n",
              "  // Wait for the user to pick the files.\n",
              "  const files = yield {\n",
              "    promise: Promise.race([pickedPromise, cancelPromise]),\n",
              "    response: {\n",
              "      action: 'starting',\n",
              "    }\n",
              "  };\n",
              "\n",
              "  cancel.remove();\n",
              "\n",
              "  // Disable the input element since further picks are not allowed.\n",
              "  inputElement.disabled = true;\n",
              "\n",
              "  if (!files) {\n",
              "    return {\n",
              "      response: {\n",
              "        action: 'complete',\n",
              "      }\n",
              "    };\n",
              "  }\n",
              "\n",
              "  for (const file of files) {\n",
              "    const li = document.createElement('li');\n",
              "    li.append(span(file.name, {fontWeight: 'bold'}));\n",
              "    li.append(span(\n",
              "        `(${file.type || 'n/a'}) - ${file.size} bytes, ` +\n",
              "        `last modified: ${\n",
              "            file.lastModifiedDate ? file.lastModifiedDate.toLocaleDateString() :\n",
              "                                    'n/a'} - `));\n",
              "    const percent = span('0% done');\n",
              "    li.appendChild(percent);\n",
              "\n",
              "    outputElement.appendChild(li);\n",
              "\n",
              "    const fileDataPromise = new Promise((resolve) => {\n",
              "      const reader = new FileReader();\n",
              "      reader.onload = (e) => {\n",
              "        resolve(e.target.result);\n",
              "      };\n",
              "      reader.readAsArrayBuffer(file);\n",
              "    });\n",
              "    // Wait for the data to be ready.\n",
              "    let fileData = yield {\n",
              "      promise: fileDataPromise,\n",
              "      response: {\n",
              "        action: 'continue',\n",
              "      }\n",
              "    };\n",
              "\n",
              "    // Use a chunked sending to avoid message size limits. See b/62115660.\n",
              "    let position = 0;\n",
              "    do {\n",
              "      const length = Math.min(fileData.byteLength - position, MAX_PAYLOAD_SIZE);\n",
              "      const chunk = new Uint8Array(fileData, position, length);\n",
              "      position += length;\n",
              "\n",
              "      const base64 = btoa(String.fromCharCode.apply(null, chunk));\n",
              "      yield {\n",
              "        response: {\n",
              "          action: 'append',\n",
              "          file: file.name,\n",
              "          data: base64,\n",
              "        },\n",
              "      };\n",
              "\n",
              "      let percentDone = fileData.byteLength === 0 ?\n",
              "          100 :\n",
              "          Math.round((position / fileData.byteLength) * 100);\n",
              "      percent.textContent = `${percentDone}% done`;\n",
              "\n",
              "    } while (position < fileData.byteLength);\n",
              "  }\n",
              "\n",
              "  // All done.\n",
              "  yield {\n",
              "    response: {\n",
              "      action: 'complete',\n",
              "    }\n",
              "  };\n",
              "}\n",
              "\n",
              "scope.google = scope.google || {};\n",
              "scope.google.colab = scope.google.colab || {};\n",
              "scope.google.colab._files = {\n",
              "  _uploadFiles,\n",
              "  _uploadFilesContinue,\n",
              "};\n",
              "})(self);\n",
              "</script> "
            ]
          },
          "metadata": {}
        },
        {
          "output_type": "stream",
          "name": "stdout",
          "text": [
            "Saving Combined_Real_vs_Fake_Reviews_Dataset__20_000_Samples_.csv to Combined_Real_vs_Fake_Reviews_Dataset__20_000_Samples_.csv\n",
            "Reading file: Combined_Real_vs_Fake_Reviews_Dataset__20_000_Samples_.csv\n"
          ]
        },
        {
          "output_type": "execute_result",
          "data": {
            "text/plain": [
              "                                                text  label\n",
              "0  I can't stop recommending this to everyone I k...      0\n",
              "1  I can't stop recommending this to everyone I k...      0\n",
              "2  Absolutely amazing! I would buy this again and...      0\n",
              "3  Exceeded my expectations. Perfect in every way...      0\n",
              "4  Unbelievable performance, can't live without i...      0"
            ],
            "text/html": [
              "\n",
              "  <div id=\"df-7b5b1c4a-e015-4693-b112-dca5f71b0086\" class=\"colab-df-container\">\n",
              "    <div>\n",
              "<style scoped>\n",
              "    .dataframe tbody tr th:only-of-type {\n",
              "        vertical-align: middle;\n",
              "    }\n",
              "\n",
              "    .dataframe tbody tr th {\n",
              "        vertical-align: top;\n",
              "    }\n",
              "\n",
              "    .dataframe thead th {\n",
              "        text-align: right;\n",
              "    }\n",
              "</style>\n",
              "<table border=\"1\" class=\"dataframe\">\n",
              "  <thead>\n",
              "    <tr style=\"text-align: right;\">\n",
              "      <th></th>\n",
              "      <th>text</th>\n",
              "      <th>label</th>\n",
              "    </tr>\n",
              "  </thead>\n",
              "  <tbody>\n",
              "    <tr>\n",
              "      <th>0</th>\n",
              "      <td>I can't stop recommending this to everyone I k...</td>\n",
              "      <td>0</td>\n",
              "    </tr>\n",
              "    <tr>\n",
              "      <th>1</th>\n",
              "      <td>I can't stop recommending this to everyone I k...</td>\n",
              "      <td>0</td>\n",
              "    </tr>\n",
              "    <tr>\n",
              "      <th>2</th>\n",
              "      <td>Absolutely amazing! I would buy this again and...</td>\n",
              "      <td>0</td>\n",
              "    </tr>\n",
              "    <tr>\n",
              "      <th>3</th>\n",
              "      <td>Exceeded my expectations. Perfect in every way...</td>\n",
              "      <td>0</td>\n",
              "    </tr>\n",
              "    <tr>\n",
              "      <th>4</th>\n",
              "      <td>Unbelievable performance, can't live without i...</td>\n",
              "      <td>0</td>\n",
              "    </tr>\n",
              "  </tbody>\n",
              "</table>\n",
              "</div>\n",
              "    <div class=\"colab-df-buttons\">\n",
              "\n",
              "  <div class=\"colab-df-container\">\n",
              "    <button class=\"colab-df-convert\" onclick=\"convertToInteractive('df-7b5b1c4a-e015-4693-b112-dca5f71b0086')\"\n",
              "            title=\"Convert this dataframe to an interactive table.\"\n",
              "            style=\"display:none;\">\n",
              "\n",
              "  <svg xmlns=\"http://www.w3.org/2000/svg\" height=\"24px\" viewBox=\"0 -960 960 960\">\n",
              "    <path d=\"M120-120v-720h720v720H120Zm60-500h600v-160H180v160Zm220 220h160v-160H400v160Zm0 220h160v-160H400v160ZM180-400h160v-160H180v160Zm440 0h160v-160H620v160ZM180-180h160v-160H180v160Zm440 0h160v-160H620v160Z\"/>\n",
              "  </svg>\n",
              "    </button>\n",
              "\n",
              "  <style>\n",
              "    .colab-df-container {\n",
              "      display:flex;\n",
              "      gap: 12px;\n",
              "    }\n",
              "\n",
              "    .colab-df-convert {\n",
              "      background-color: #E8F0FE;\n",
              "      border: none;\n",
              "      border-radius: 50%;\n",
              "      cursor: pointer;\n",
              "      display: none;\n",
              "      fill: #1967D2;\n",
              "      height: 32px;\n",
              "      padding: 0 0 0 0;\n",
              "      width: 32px;\n",
              "    }\n",
              "\n",
              "    .colab-df-convert:hover {\n",
              "      background-color: #E2EBFA;\n",
              "      box-shadow: 0px 1px 2px rgba(60, 64, 67, 0.3), 0px 1px 3px 1px rgba(60, 64, 67, 0.15);\n",
              "      fill: #174EA6;\n",
              "    }\n",
              "\n",
              "    .colab-df-buttons div {\n",
              "      margin-bottom: 4px;\n",
              "    }\n",
              "\n",
              "    [theme=dark] .colab-df-convert {\n",
              "      background-color: #3B4455;\n",
              "      fill: #D2E3FC;\n",
              "    }\n",
              "\n",
              "    [theme=dark] .colab-df-convert:hover {\n",
              "      background-color: #434B5C;\n",
              "      box-shadow: 0px 1px 3px 1px rgba(0, 0, 0, 0.15);\n",
              "      filter: drop-shadow(0px 1px 2px rgba(0, 0, 0, 0.3));\n",
              "      fill: #FFFFFF;\n",
              "    }\n",
              "  </style>\n",
              "\n",
              "    <script>\n",
              "      const buttonEl =\n",
              "        document.querySelector('#df-7b5b1c4a-e015-4693-b112-dca5f71b0086 button.colab-df-convert');\n",
              "      buttonEl.style.display =\n",
              "        google.colab.kernel.accessAllowed ? 'block' : 'none';\n",
              "\n",
              "      async function convertToInteractive(key) {\n",
              "        const element = document.querySelector('#df-7b5b1c4a-e015-4693-b112-dca5f71b0086');\n",
              "        const dataTable =\n",
              "          await google.colab.kernel.invokeFunction('convertToInteractive',\n",
              "                                                    [key], {});\n",
              "        if (!dataTable) return;\n",
              "\n",
              "        const docLinkHtml = 'Like what you see? Visit the ' +\n",
              "          '<a target=\"_blank\" href=https://colab.research.google.com/notebooks/data_table.ipynb>data table notebook</a>'\n",
              "          + ' to learn more about interactive tables.';\n",
              "        element.innerHTML = '';\n",
              "        dataTable['output_type'] = 'display_data';\n",
              "        await google.colab.output.renderOutput(dataTable, element);\n",
              "        const docLink = document.createElement('div');\n",
              "        docLink.innerHTML = docLinkHtml;\n",
              "        element.appendChild(docLink);\n",
              "      }\n",
              "    </script>\n",
              "  </div>\n",
              "\n",
              "\n",
              "    <div id=\"df-277979be-970e-4ed4-95af-1220fbeb3ccf\">\n",
              "      <button class=\"colab-df-quickchart\" onclick=\"quickchart('df-277979be-970e-4ed4-95af-1220fbeb3ccf')\"\n",
              "                title=\"Suggest charts\"\n",
              "                style=\"display:none;\">\n",
              "\n",
              "<svg xmlns=\"http://www.w3.org/2000/svg\" height=\"24px\"viewBox=\"0 0 24 24\"\n",
              "     width=\"24px\">\n",
              "    <g>\n",
              "        <path d=\"M19 3H5c-1.1 0-2 .9-2 2v14c0 1.1.9 2 2 2h14c1.1 0 2-.9 2-2V5c0-1.1-.9-2-2-2zM9 17H7v-7h2v7zm4 0h-2V7h2v10zm4 0h-2v-4h2v4z\"/>\n",
              "    </g>\n",
              "</svg>\n",
              "      </button>\n",
              "\n",
              "<style>\n",
              "  .colab-df-quickchart {\n",
              "      --bg-color: #E8F0FE;\n",
              "      --fill-color: #1967D2;\n",
              "      --hover-bg-color: #E2EBFA;\n",
              "      --hover-fill-color: #174EA6;\n",
              "      --disabled-fill-color: #AAA;\n",
              "      --disabled-bg-color: #DDD;\n",
              "  }\n",
              "\n",
              "  [theme=dark] .colab-df-quickchart {\n",
              "      --bg-color: #3B4455;\n",
              "      --fill-color: #D2E3FC;\n",
              "      --hover-bg-color: #434B5C;\n",
              "      --hover-fill-color: #FFFFFF;\n",
              "      --disabled-bg-color: #3B4455;\n",
              "      --disabled-fill-color: #666;\n",
              "  }\n",
              "\n",
              "  .colab-df-quickchart {\n",
              "    background-color: var(--bg-color);\n",
              "    border: none;\n",
              "    border-radius: 50%;\n",
              "    cursor: pointer;\n",
              "    display: none;\n",
              "    fill: var(--fill-color);\n",
              "    height: 32px;\n",
              "    padding: 0;\n",
              "    width: 32px;\n",
              "  }\n",
              "\n",
              "  .colab-df-quickchart:hover {\n",
              "    background-color: var(--hover-bg-color);\n",
              "    box-shadow: 0 1px 2px rgba(60, 64, 67, 0.3), 0 1px 3px 1px rgba(60, 64, 67, 0.15);\n",
              "    fill: var(--button-hover-fill-color);\n",
              "  }\n",
              "\n",
              "  .colab-df-quickchart-complete:disabled,\n",
              "  .colab-df-quickchart-complete:disabled:hover {\n",
              "    background-color: var(--disabled-bg-color);\n",
              "    fill: var(--disabled-fill-color);\n",
              "    box-shadow: none;\n",
              "  }\n",
              "\n",
              "  .colab-df-spinner {\n",
              "    border: 2px solid var(--fill-color);\n",
              "    border-color: transparent;\n",
              "    border-bottom-color: var(--fill-color);\n",
              "    animation:\n",
              "      spin 1s steps(1) infinite;\n",
              "  }\n",
              "\n",
              "  @keyframes spin {\n",
              "    0% {\n",
              "      border-color: transparent;\n",
              "      border-bottom-color: var(--fill-color);\n",
              "      border-left-color: var(--fill-color);\n",
              "    }\n",
              "    20% {\n",
              "      border-color: transparent;\n",
              "      border-left-color: var(--fill-color);\n",
              "      border-top-color: var(--fill-color);\n",
              "    }\n",
              "    30% {\n",
              "      border-color: transparent;\n",
              "      border-left-color: var(--fill-color);\n",
              "      border-top-color: var(--fill-color);\n",
              "      border-right-color: var(--fill-color);\n",
              "    }\n",
              "    40% {\n",
              "      border-color: transparent;\n",
              "      border-right-color: var(--fill-color);\n",
              "      border-top-color: var(--fill-color);\n",
              "    }\n",
              "    60% {\n",
              "      border-color: transparent;\n",
              "      border-right-color: var(--fill-color);\n",
              "    }\n",
              "    80% {\n",
              "      border-color: transparent;\n",
              "      border-right-color: var(--fill-color);\n",
              "      border-bottom-color: var(--fill-color);\n",
              "    }\n",
              "    90% {\n",
              "      border-color: transparent;\n",
              "      border-bottom-color: var(--fill-color);\n",
              "    }\n",
              "  }\n",
              "</style>\n",
              "\n",
              "      <script>\n",
              "        async function quickchart(key) {\n",
              "          const quickchartButtonEl =\n",
              "            document.querySelector('#' + key + ' button');\n",
              "          quickchartButtonEl.disabled = true;  // To prevent multiple clicks.\n",
              "          quickchartButtonEl.classList.add('colab-df-spinner');\n",
              "          try {\n",
              "            const charts = await google.colab.kernel.invokeFunction(\n",
              "                'suggestCharts', [key], {});\n",
              "          } catch (error) {\n",
              "            console.error('Error during call to suggestCharts:', error);\n",
              "          }\n",
              "          quickchartButtonEl.classList.remove('colab-df-spinner');\n",
              "          quickchartButtonEl.classList.add('colab-df-quickchart-complete');\n",
              "        }\n",
              "        (() => {\n",
              "          let quickchartButtonEl =\n",
              "            document.querySelector('#df-277979be-970e-4ed4-95af-1220fbeb3ccf button');\n",
              "          quickchartButtonEl.style.display =\n",
              "            google.colab.kernel.accessAllowed ? 'block' : 'none';\n",
              "        })();\n",
              "      </script>\n",
              "    </div>\n",
              "\n",
              "    </div>\n",
              "  </div>\n"
            ],
            "application/vnd.google.colaboratory.intrinsic+json": {
              "type": "dataframe",
              "variable_name": "df",
              "summary": "{\n  \"name\": \"df\",\n  \"rows\": 20000,\n  \"fields\": [\n    {\n      \"column\": \"text\",\n      \"properties\": {\n        \"dtype\": \"string\",\n        \"num_unique_values\": 19822,\n        \"samples\": [\n          \"Amazing quality and superb value! Bought from Anderson-Hawkins.\",\n          \"Best product ever! Changed my life! Bought from Brown LLC.\",\n          \"Not as described but customer service helped. Purchased from Shaw-Alvarado on 2025-02-23.\"\n        ],\n        \"semantic_type\": \"\",\n        \"description\": \"\"\n      }\n    },\n    {\n      \"column\": \"label\",\n      \"properties\": {\n        \"dtype\": \"number\",\n        \"std\": 0,\n        \"min\": 0,\n        \"max\": 1,\n        \"num_unique_values\": 2,\n        \"samples\": [\n          1,\n          0\n        ],\n        \"semantic_type\": \"\",\n        \"description\": \"\"\n      }\n    }\n  ]\n}"
            }
          },
          "metadata": {},
          "execution_count": 4
        }
      ]
    },
    {
      "cell_type": "code",
      "source": [
        "df['label'].value_counts()"
      ],
      "metadata": {
        "colab": {
          "base_uri": "https://localhost:8080/",
          "height": 178
        },
        "id": "n3bcLzt0yh33",
        "outputId": "52b5f4cb-fb1e-4549-8d79-f5157d42fdf8"
      },
      "execution_count": 5,
      "outputs": [
        {
          "output_type": "execute_result",
          "data": {
            "text/plain": [
              "label\n",
              "0    18000\n",
              "1     2000\n",
              "Name: count, dtype: int64"
            ],
            "text/html": [
              "<div>\n",
              "<style scoped>\n",
              "    .dataframe tbody tr th:only-of-type {\n",
              "        vertical-align: middle;\n",
              "    }\n",
              "\n",
              "    .dataframe tbody tr th {\n",
              "        vertical-align: top;\n",
              "    }\n",
              "\n",
              "    .dataframe thead th {\n",
              "        text-align: right;\n",
              "    }\n",
              "</style>\n",
              "<table border=\"1\" class=\"dataframe\">\n",
              "  <thead>\n",
              "    <tr style=\"text-align: right;\">\n",
              "      <th></th>\n",
              "      <th>count</th>\n",
              "    </tr>\n",
              "    <tr>\n",
              "      <th>label</th>\n",
              "      <th></th>\n",
              "    </tr>\n",
              "  </thead>\n",
              "  <tbody>\n",
              "    <tr>\n",
              "      <th>0</th>\n",
              "      <td>18000</td>\n",
              "    </tr>\n",
              "    <tr>\n",
              "      <th>1</th>\n",
              "      <td>2000</td>\n",
              "    </tr>\n",
              "  </tbody>\n",
              "</table>\n",
              "</div><br><label><b>dtype:</b> int64</label>"
            ]
          },
          "metadata": {},
          "execution_count": 5
        }
      ]
    },
    {
      "cell_type": "code",
      "source": [
        "df.rename(columns={'label': 'labels'}, inplace=True)\n",
        "df.head()"
      ],
      "metadata": {
        "colab": {
          "base_uri": "https://localhost:8080/",
          "height": 206
        },
        "id": "8dctPdaHyl0F",
        "outputId": "9c0be926-a44f-4238-a8f2-cf5a638a0a1d"
      },
      "execution_count": 6,
      "outputs": [
        {
          "output_type": "execute_result",
          "data": {
            "text/plain": [
              "                                                text  labels\n",
              "0  I can't stop recommending this to everyone I k...       0\n",
              "1  I can't stop recommending this to everyone I k...       0\n",
              "2  Absolutely amazing! I would buy this again and...       0\n",
              "3  Exceeded my expectations. Perfect in every way...       0\n",
              "4  Unbelievable performance, can't live without i...       0"
            ],
            "text/html": [
              "\n",
              "  <div id=\"df-9788fbb5-ff45-4587-8eb1-4318501aab62\" class=\"colab-df-container\">\n",
              "    <div>\n",
              "<style scoped>\n",
              "    .dataframe tbody tr th:only-of-type {\n",
              "        vertical-align: middle;\n",
              "    }\n",
              "\n",
              "    .dataframe tbody tr th {\n",
              "        vertical-align: top;\n",
              "    }\n",
              "\n",
              "    .dataframe thead th {\n",
              "        text-align: right;\n",
              "    }\n",
              "</style>\n",
              "<table border=\"1\" class=\"dataframe\">\n",
              "  <thead>\n",
              "    <tr style=\"text-align: right;\">\n",
              "      <th></th>\n",
              "      <th>text</th>\n",
              "      <th>labels</th>\n",
              "    </tr>\n",
              "  </thead>\n",
              "  <tbody>\n",
              "    <tr>\n",
              "      <th>0</th>\n",
              "      <td>I can't stop recommending this to everyone I k...</td>\n",
              "      <td>0</td>\n",
              "    </tr>\n",
              "    <tr>\n",
              "      <th>1</th>\n",
              "      <td>I can't stop recommending this to everyone I k...</td>\n",
              "      <td>0</td>\n",
              "    </tr>\n",
              "    <tr>\n",
              "      <th>2</th>\n",
              "      <td>Absolutely amazing! I would buy this again and...</td>\n",
              "      <td>0</td>\n",
              "    </tr>\n",
              "    <tr>\n",
              "      <th>3</th>\n",
              "      <td>Exceeded my expectations. Perfect in every way...</td>\n",
              "      <td>0</td>\n",
              "    </tr>\n",
              "    <tr>\n",
              "      <th>4</th>\n",
              "      <td>Unbelievable performance, can't live without i...</td>\n",
              "      <td>0</td>\n",
              "    </tr>\n",
              "  </tbody>\n",
              "</table>\n",
              "</div>\n",
              "    <div class=\"colab-df-buttons\">\n",
              "\n",
              "  <div class=\"colab-df-container\">\n",
              "    <button class=\"colab-df-convert\" onclick=\"convertToInteractive('df-9788fbb5-ff45-4587-8eb1-4318501aab62')\"\n",
              "            title=\"Convert this dataframe to an interactive table.\"\n",
              "            style=\"display:none;\">\n",
              "\n",
              "  <svg xmlns=\"http://www.w3.org/2000/svg\" height=\"24px\" viewBox=\"0 -960 960 960\">\n",
              "    <path d=\"M120-120v-720h720v720H120Zm60-500h600v-160H180v160Zm220 220h160v-160H400v160Zm0 220h160v-160H400v160ZM180-400h160v-160H180v160Zm440 0h160v-160H620v160ZM180-180h160v-160H180v160Zm440 0h160v-160H620v160Z\"/>\n",
              "  </svg>\n",
              "    </button>\n",
              "\n",
              "  <style>\n",
              "    .colab-df-container {\n",
              "      display:flex;\n",
              "      gap: 12px;\n",
              "    }\n",
              "\n",
              "    .colab-df-convert {\n",
              "      background-color: #E8F0FE;\n",
              "      border: none;\n",
              "      border-radius: 50%;\n",
              "      cursor: pointer;\n",
              "      display: none;\n",
              "      fill: #1967D2;\n",
              "      height: 32px;\n",
              "      padding: 0 0 0 0;\n",
              "      width: 32px;\n",
              "    }\n",
              "\n",
              "    .colab-df-convert:hover {\n",
              "      background-color: #E2EBFA;\n",
              "      box-shadow: 0px 1px 2px rgba(60, 64, 67, 0.3), 0px 1px 3px 1px rgba(60, 64, 67, 0.15);\n",
              "      fill: #174EA6;\n",
              "    }\n",
              "\n",
              "    .colab-df-buttons div {\n",
              "      margin-bottom: 4px;\n",
              "    }\n",
              "\n",
              "    [theme=dark] .colab-df-convert {\n",
              "      background-color: #3B4455;\n",
              "      fill: #D2E3FC;\n",
              "    }\n",
              "\n",
              "    [theme=dark] .colab-df-convert:hover {\n",
              "      background-color: #434B5C;\n",
              "      box-shadow: 0px 1px 3px 1px rgba(0, 0, 0, 0.15);\n",
              "      filter: drop-shadow(0px 1px 2px rgba(0, 0, 0, 0.3));\n",
              "      fill: #FFFFFF;\n",
              "    }\n",
              "  </style>\n",
              "\n",
              "    <script>\n",
              "      const buttonEl =\n",
              "        document.querySelector('#df-9788fbb5-ff45-4587-8eb1-4318501aab62 button.colab-df-convert');\n",
              "      buttonEl.style.display =\n",
              "        google.colab.kernel.accessAllowed ? 'block' : 'none';\n",
              "\n",
              "      async function convertToInteractive(key) {\n",
              "        const element = document.querySelector('#df-9788fbb5-ff45-4587-8eb1-4318501aab62');\n",
              "        const dataTable =\n",
              "          await google.colab.kernel.invokeFunction('convertToInteractive',\n",
              "                                                    [key], {});\n",
              "        if (!dataTable) return;\n",
              "\n",
              "        const docLinkHtml = 'Like what you see? Visit the ' +\n",
              "          '<a target=\"_blank\" href=https://colab.research.google.com/notebooks/data_table.ipynb>data table notebook</a>'\n",
              "          + ' to learn more about interactive tables.';\n",
              "        element.innerHTML = '';\n",
              "        dataTable['output_type'] = 'display_data';\n",
              "        await google.colab.output.renderOutput(dataTable, element);\n",
              "        const docLink = document.createElement('div');\n",
              "        docLink.innerHTML = docLinkHtml;\n",
              "        element.appendChild(docLink);\n",
              "      }\n",
              "    </script>\n",
              "  </div>\n",
              "\n",
              "\n",
              "    <div id=\"df-561a0ccc-ddb7-46e0-b7de-c0e00741d44a\">\n",
              "      <button class=\"colab-df-quickchart\" onclick=\"quickchart('df-561a0ccc-ddb7-46e0-b7de-c0e00741d44a')\"\n",
              "                title=\"Suggest charts\"\n",
              "                style=\"display:none;\">\n",
              "\n",
              "<svg xmlns=\"http://www.w3.org/2000/svg\" height=\"24px\"viewBox=\"0 0 24 24\"\n",
              "     width=\"24px\">\n",
              "    <g>\n",
              "        <path d=\"M19 3H5c-1.1 0-2 .9-2 2v14c0 1.1.9 2 2 2h14c1.1 0 2-.9 2-2V5c0-1.1-.9-2-2-2zM9 17H7v-7h2v7zm4 0h-2V7h2v10zm4 0h-2v-4h2v4z\"/>\n",
              "    </g>\n",
              "</svg>\n",
              "      </button>\n",
              "\n",
              "<style>\n",
              "  .colab-df-quickchart {\n",
              "      --bg-color: #E8F0FE;\n",
              "      --fill-color: #1967D2;\n",
              "      --hover-bg-color: #E2EBFA;\n",
              "      --hover-fill-color: #174EA6;\n",
              "      --disabled-fill-color: #AAA;\n",
              "      --disabled-bg-color: #DDD;\n",
              "  }\n",
              "\n",
              "  [theme=dark] .colab-df-quickchart {\n",
              "      --bg-color: #3B4455;\n",
              "      --fill-color: #D2E3FC;\n",
              "      --hover-bg-color: #434B5C;\n",
              "      --hover-fill-color: #FFFFFF;\n",
              "      --disabled-bg-color: #3B4455;\n",
              "      --disabled-fill-color: #666;\n",
              "  }\n",
              "\n",
              "  .colab-df-quickchart {\n",
              "    background-color: var(--bg-color);\n",
              "    border: none;\n",
              "    border-radius: 50%;\n",
              "    cursor: pointer;\n",
              "    display: none;\n",
              "    fill: var(--fill-color);\n",
              "    height: 32px;\n",
              "    padding: 0;\n",
              "    width: 32px;\n",
              "  }\n",
              "\n",
              "  .colab-df-quickchart:hover {\n",
              "    background-color: var(--hover-bg-color);\n",
              "    box-shadow: 0 1px 2px rgba(60, 64, 67, 0.3), 0 1px 3px 1px rgba(60, 64, 67, 0.15);\n",
              "    fill: var(--button-hover-fill-color);\n",
              "  }\n",
              "\n",
              "  .colab-df-quickchart-complete:disabled,\n",
              "  .colab-df-quickchart-complete:disabled:hover {\n",
              "    background-color: var(--disabled-bg-color);\n",
              "    fill: var(--disabled-fill-color);\n",
              "    box-shadow: none;\n",
              "  }\n",
              "\n",
              "  .colab-df-spinner {\n",
              "    border: 2px solid var(--fill-color);\n",
              "    border-color: transparent;\n",
              "    border-bottom-color: var(--fill-color);\n",
              "    animation:\n",
              "      spin 1s steps(1) infinite;\n",
              "  }\n",
              "\n",
              "  @keyframes spin {\n",
              "    0% {\n",
              "      border-color: transparent;\n",
              "      border-bottom-color: var(--fill-color);\n",
              "      border-left-color: var(--fill-color);\n",
              "    }\n",
              "    20% {\n",
              "      border-color: transparent;\n",
              "      border-left-color: var(--fill-color);\n",
              "      border-top-color: var(--fill-color);\n",
              "    }\n",
              "    30% {\n",
              "      border-color: transparent;\n",
              "      border-left-color: var(--fill-color);\n",
              "      border-top-color: var(--fill-color);\n",
              "      border-right-color: var(--fill-color);\n",
              "    }\n",
              "    40% {\n",
              "      border-color: transparent;\n",
              "      border-right-color: var(--fill-color);\n",
              "      border-top-color: var(--fill-color);\n",
              "    }\n",
              "    60% {\n",
              "      border-color: transparent;\n",
              "      border-right-color: var(--fill-color);\n",
              "    }\n",
              "    80% {\n",
              "      border-color: transparent;\n",
              "      border-right-color: var(--fill-color);\n",
              "      border-bottom-color: var(--fill-color);\n",
              "    }\n",
              "    90% {\n",
              "      border-color: transparent;\n",
              "      border-bottom-color: var(--fill-color);\n",
              "    }\n",
              "  }\n",
              "</style>\n",
              "\n",
              "      <script>\n",
              "        async function quickchart(key) {\n",
              "          const quickchartButtonEl =\n",
              "            document.querySelector('#' + key + ' button');\n",
              "          quickchartButtonEl.disabled = true;  // To prevent multiple clicks.\n",
              "          quickchartButtonEl.classList.add('colab-df-spinner');\n",
              "          try {\n",
              "            const charts = await google.colab.kernel.invokeFunction(\n",
              "                'suggestCharts', [key], {});\n",
              "          } catch (error) {\n",
              "            console.error('Error during call to suggestCharts:', error);\n",
              "          }\n",
              "          quickchartButtonEl.classList.remove('colab-df-spinner');\n",
              "          quickchartButtonEl.classList.add('colab-df-quickchart-complete');\n",
              "        }\n",
              "        (() => {\n",
              "          let quickchartButtonEl =\n",
              "            document.querySelector('#df-561a0ccc-ddb7-46e0-b7de-c0e00741d44a button');\n",
              "          quickchartButtonEl.style.display =\n",
              "            google.colab.kernel.accessAllowed ? 'block' : 'none';\n",
              "        })();\n",
              "      </script>\n",
              "    </div>\n",
              "\n",
              "    </div>\n",
              "  </div>\n"
            ],
            "application/vnd.google.colaboratory.intrinsic+json": {
              "type": "dataframe",
              "variable_name": "df",
              "summary": "{\n  \"name\": \"df\",\n  \"rows\": 20000,\n  \"fields\": [\n    {\n      \"column\": \"text\",\n      \"properties\": {\n        \"dtype\": \"string\",\n        \"num_unique_values\": 19822,\n        \"samples\": [\n          \"Amazing quality and superb value! Bought from Anderson-Hawkins.\",\n          \"Best product ever! Changed my life! Bought from Brown LLC.\",\n          \"Not as described but customer service helped. Purchased from Shaw-Alvarado on 2025-02-23.\"\n        ],\n        \"semantic_type\": \"\",\n        \"description\": \"\"\n      }\n    },\n    {\n      \"column\": \"labels\",\n      \"properties\": {\n        \"dtype\": \"number\",\n        \"std\": 0,\n        \"min\": 0,\n        \"max\": 1,\n        \"num_unique_values\": 2,\n        \"samples\": [\n          1,\n          0\n        ],\n        \"semantic_type\": \"\",\n        \"description\": \"\"\n      }\n    }\n  ]\n}"
            }
          },
          "metadata": {},
          "execution_count": 6
        }
      ]
    },
    {
      "cell_type": "code",
      "source": [
        "import numpy as np\n",
        "train, validate, test = np.split(df.sample(frac=1, random_state=42),[int(.6*len(df)),int(.8*len(df))])"
      ],
      "metadata": {
        "colab": {
          "base_uri": "https://localhost:8080/"
        },
        "id": "1MGL8EDyyn-4",
        "outputId": "bcd81970-1211-4b31-ad22-17d920e75c39"
      },
      "execution_count": 7,
      "outputs": [
        {
          "output_type": "stream",
          "name": "stderr",
          "text": [
            "/usr/local/lib/python3.11/dist-packages/numpy/_core/fromnumeric.py:57: FutureWarning: 'DataFrame.swapaxes' is deprecated and will be removed in a future version. Please use 'DataFrame.transpose' instead.\n",
            "  return bound(*args, **kwds)\n"
          ]
        }
      ]
    },
    {
      "cell_type": "code",
      "source": [
        "train = train.reset_index()[['text','labels']]\n",
        "validate = validate.reset_index()[['text','labels']]\n",
        "test = test.reset_index()[['text','labels']]"
      ],
      "metadata": {
        "id": "s2YlApQ1ypx_"
      },
      "execution_count": 8,
      "outputs": []
    },
    {
      "cell_type": "code",
      "source": [
        "tds = Dataset.from_pandas(train)\n",
        "vds = Dataset.from_pandas(validate)\n",
        "teds = Dataset.from_pandas(test)"
      ],
      "metadata": {
        "id": "paM80uTjy35-"
      },
      "execution_count": 9,
      "outputs": []
    },
    {
      "cell_type": "code",
      "source": [
        "dataset = DatasetDict()\n",
        "dataset[\"train\"] = tds\n",
        "dataset[\"validate\"] = vds\n",
        "dataset[\"test\"] = teds"
      ],
      "metadata": {
        "id": "8INKUg4Ryr6n"
      },
      "execution_count": 10,
      "outputs": []
    },
    {
      "cell_type": "code",
      "source": [
        "dataset"
      ],
      "metadata": {
        "colab": {
          "base_uri": "https://localhost:8080/"
        },
        "id": "i9c1nJPzytsM",
        "outputId": "a6458597-351b-4f12-ff4e-954d7de3e116"
      },
      "execution_count": 11,
      "outputs": [
        {
          "output_type": "execute_result",
          "data": {
            "text/plain": [
              "DatasetDict({\n",
              "    train: Dataset({\n",
              "        features: ['text', 'labels'],\n",
              "        num_rows: 12000\n",
              "    })\n",
              "    validate: Dataset({\n",
              "        features: ['text', 'labels'],\n",
              "        num_rows: 4000\n",
              "    })\n",
              "    test: Dataset({\n",
              "        features: ['text', 'labels'],\n",
              "        num_rows: 4000\n",
              "    })\n",
              "})"
            ]
          },
          "metadata": {},
          "execution_count": 11
        }
      ]
    },
    {
      "cell_type": "code",
      "source": [
        "# Check the number of records after over sampling\n",
        "label_counts = Counter(dataset[\"train\"][\"labels\"])\n",
        "print(sorted(label_counts.items()))"
      ],
      "metadata": {
        "colab": {
          "base_uri": "https://localhost:8080/"
        },
        "id": "fym-0XJfy665",
        "outputId": "5d51b885-e97b-4524-fe8c-e9ccca6683bc"
      },
      "execution_count": 12,
      "outputs": [
        {
          "output_type": "stream",
          "name": "stdout",
          "text": [
            "[(0, 10806), (1, 1194)]\n"
          ]
        }
      ]
    },
    {
      "cell_type": "markdown",
      "source": [
        "## Tokenizer"
      ],
      "metadata": {
        "id": "J5hz506HzDj6"
      }
    },
    {
      "cell_type": "code",
      "source": [
        "# \u2705 Tokenization\n",
        "model_ckpt =\"bert-base-uncased\"\n",
        "tokenizer = AutoTokenizer.from_pretrained(model_ckpt)\n",
        "\n",
        "def tokenize(example):\n",
        "    return tokenizer(example[\"text\"], truncation=True)\n",
        "\n",
        "tokenized = dataset.map(tokenize, batched=True)\n",
        "data_collator = DataCollatorWithPadding(tokenizer=tokenizer)\n",
        "num_labels = len(set(dataset['train']['labels']))"
      ],
      "metadata": {
        "colab": {
          "base_uri": "https://localhost:8080/",
          "height": 350,
          "referenced_widgets": [
            "b7180799d5e94b178a9bd36e140cf795",
            "e6fdb2af27c44eafa78fb2d151c5ffe4",
            "b47059c3c46c4b78a6f34958e78d7421",
            "5633abd1476d428aacb749d3afbde21d",
            "ddbf8091cc28477fa1b0b202bea719df",
            "5c7adf272a95448a8627a3fe41bcf572",
            "52fa3646f8e74606acf1ca94e7dd7f08",
            "41ffcc64575541239f9b4f18c4f2de07",
            "fc6ab4e72e084719b2c0ae93c7d6c2cf",
            "6cce5a79264745f6a4a362ea9eab868f",
            "7f4f66a5beb34f4583d2802ec932e350",
            "7b72d9dcf18a4b079bb99b16aa0cff50",
            "f0d0fa5b596e444cab848ae252d5c131",
            "049afda83eb445d193424450e99016cd",
            "ee14fb2f851a442781095689f2fba2f3",
            "edc25c7dc3c5441494529ea0710b700f",
            "40bf03754ba5410999c31db088e0f2b8",
            "8e9a9d9499374417acdaaa0f80fdb64e",
            "4ab12a4bdc1e4ac8b65a1e3a32ef213e",
            "2eff89873601496aacca300b2676c0b7",
            "4a097b08b8b444959f05c866e4e8a55c",
            "af0a331e307c4212800d8065de218250",
            "620eba7f7cab401caf171710886c9e23",
            "a187bef437fc47ef8422bf09bc4bb7ee",
            "45f697c897084e5ebf85a994fdcc14d9",
            "1a8fac9b4c3c4e45bc4200002f7e44b1",
            "52cdd1bafa9043689fa32122e080e2fa",
            "e0e9839267984a79aef35a32ce046fc3",
            "b9c15671a1534b658ccedd36ac998439",
            "8ec032211367482482b1f9504f7923a7",
            "7eca10f9e9fb436a984efa15a205d2b2",
            "01b3b28cafc649f895ef05385b7bdb27",
            "6f2d2160a9804611bc79fa32e885c471",
            "391a328e9fe046b7866bd1d4f6a3e303",
            "4447a3315fa64bc1a86e1aa68107b102",
            "5aa6939034f243caa810ca89327c8b1b",
            "8b9a760921f84f00812565e811415617",
            "c7802c0b9146402aac5529ce4e469510",
            "a1edfce65d5b4fc48bbf1ab4492d3a59",
            "b9f7900e9f6c4420b290f59350ce36c9",
            "1d02a26abeeb40379da6ae48fb40c8d1",
            "8e2abe46849340ea8b3533afc6a34079",
            "c48ba6b6cd7b461faa523a578ab437b8",
            "1dfe51f6e0934833871d883b9dedd498",
            "5b0cd64d979b447e8dedea3b1088054b",
            "41621d65b95b436e9896b9678e1569de",
            "ae5efc26cbf54bd1b22b0d65d98a4659",
            "c38380680171412a9907a75467f4c783",
            "bf0c25504ea049b4800781d139c0565d",
            "9a2546f22969448caa537d0d3e8ee722",
            "ecb05b48929c45988887cbde35f9a596",
            "e4ff963524c54eda81016b98054684a2",
            "07e1ff30af1f4558ba2f1919472f0521",
            "7f12412df4ab4714bb0cb8353b68ef29",
            "27589befca2645b78973d6ff423a74f4",
            "1fbe061def234e9d99b9241537af0a8d",
            "8c4aea6eb96f44baa0385ac7f1480e8a",
            "80e50df129074d56b677ed8acc9fe4da",
            "51f979afed3642d7a2c653288afea509",
            "71fb258fef5a46dab409c1d5534491db",
            "1a3909e22707414ab3bb7aabd187dec8",
            "3b9e9250a8b5492691c394ab582e9ead",
            "22b75a59c0bd4caabd67d753de047a6f",
            "f47fc4c8058e4477948b7d819c9c470b",
            "e100b6ca3ce84377bba72fa770004b16",
            "80cac82877a24edf873b2439c73842b2",
            "6bedca21589f45428dcc39307b7ccc0f",
            "707537ee71e24e63b005f7ffa1986ea5",
            "c1f619b4ebbc4b49b6b571203c534be4",
            "4b06a10f2e014b05b2b0398f9c4fc626",
            "7d5ca0a08c3d4a6f96dad01cadde9188",
            "2da4e66a416c47fb924abdf609798f79",
            "13cc1862653b4f1d8340fd3b6efbe576",
            "4e411a6502c84d86afdcd4e1f8a6e06f",
            "a041e7d1d35549efa699fba7a7332172",
            "a6e0d032c2894fa3af7bf072b55e8d01",
            "714b15369bcc4edba71f6aaf386a05a2"
          ]
        },
        "id": "1a9o2Ry-y9ET",
        "outputId": "655f334b-1ded-4b60-c83d-93d3e3d53a64"
      },
      "execution_count": 13,
      "outputs": [
        {
          "output_type": "stream",
          "name": "stderr",
          "text": [
            "/usr/local/lib/python3.11/dist-packages/huggingface_hub/utils/_auth.py:94: UserWarning: \n",
            "The secret `HF_TOKEN` does not exist in your Colab secrets.\n",
            "To authenticate with the Hugging Face Hub, create a token in your settings tab (https://huggingface.co/settings/tokens), set it as secret in your Google Colab and restart your session.\n",
            "You will be able to reuse this secret in all of your notebooks.\n",
            "Please note that authentication is recommended but still optional to access public models or datasets.\n",
            "  warnings.warn(\n"
          ]
        },
        {
          "output_type": "display_data",
          "data": {
            "text/plain": [
              "tokenizer_config.json:   0%|          | 0.00/48.0 [00:00<?, ?B/s]"
            ],
            "application/vnd.jupyter.widget-view+json": {
              "version_major": 2,
              "version_minor": 0,
              "model_id": "b7180799d5e94b178a9bd36e140cf795"
            }
          },
          "metadata": {}
        },
        {
          "output_type": "display_data",
          "data": {
            "text/plain": [
              "config.json:   0%|          | 0.00/570 [00:00<?, ?B/s]"
            ],
            "application/vnd.jupyter.widget-view+json": {
              "version_major": 2,
              "version_minor": 0,
              "model_id": "7b72d9dcf18a4b079bb99b16aa0cff50"
            }
          },
          "metadata": {}
        },
        {
          "output_type": "display_data",
          "data": {
            "text/plain": [
              "vocab.txt:   0%|          | 0.00/232k [00:00<?, ?B/s]"
            ],
            "application/vnd.jupyter.widget-view+json": {
              "version_major": 2,
              "version_minor": 0,
              "model_id": "620eba7f7cab401caf171710886c9e23"
            }
          },
          "metadata": {}
        },
        {
          "output_type": "display_data",
          "data": {
            "text/plain": [
              "tokenizer.json:   0%|          | 0.00/466k [00:00<?, ?B/s]"
            ],
            "application/vnd.jupyter.widget-view+json": {
              "version_major": 2,
              "version_minor": 0,
              "model_id": "391a328e9fe046b7866bd1d4f6a3e303"
            }
          },
          "metadata": {}
        },
        {
          "output_type": "display_data",
          "data": {
            "text/plain": [
              "Map:   0%|          | 0/12000 [00:00<?, ? examples/s]"
            ],
            "application/vnd.jupyter.widget-view+json": {
              "version_major": 2,
              "version_minor": 0,
              "model_id": "5b0cd64d979b447e8dedea3b1088054b"
            }
          },
          "metadata": {}
        },
        {
          "output_type": "display_data",
          "data": {
            "text/plain": [
              "Map:   0%|          | 0/4000 [00:00<?, ? examples/s]"
            ],
            "application/vnd.jupyter.widget-view+json": {
              "version_major": 2,
              "version_minor": 0,
              "model_id": "1fbe061def234e9d99b9241537af0a8d"
            }
          },
          "metadata": {}
        },
        {
          "output_type": "display_data",
          "data": {
            "text/plain": [
              "Map:   0%|          | 0/4000 [00:00<?, ? examples/s]"
            ],
            "application/vnd.jupyter.widget-view+json": {
              "version_major": 2,
              "version_minor": 0,
              "model_id": "6bedca21589f45428dcc39307b7ccc0f"
            }
          },
          "metadata": {}
        }
      ]
    },
    {
      "cell_type": "code",
      "source": [
        "num_labels"
      ],
      "metadata": {
        "colab": {
          "base_uri": "https://localhost:8080/"
        },
        "id": "MMN5Nz1zTqW_",
        "outputId": "f4f25565-9593-429b-ad13-d75dc2eced6a"
      },
      "execution_count": 14,
      "outputs": [
        {
          "output_type": "execute_result",
          "data": {
            "text/plain": [
              "2"
            ]
          },
          "metadata": {},
          "execution_count": 14
        }
      ]
    },
    {
      "cell_type": "markdown",
      "source": [
        "## Focal Loss"
      ],
      "metadata": {
        "id": "ObZxAkEizto2"
      }
    },
    {
      "cell_type": "code",
      "source": [
        "class FocalLoss(nn.Module):\n",
        "    def __init__(self, alpha=1, gamma=2, reduction='mean'):\n",
        "        super(FocalLoss, self).__init__()\n",
        "        self.alpha = alpha\n",
        "        self.gamma = gamma\n",
        "        self.reduction = reduction\n",
        "\n",
        "    def forward(self, inputs, targets):\n",
        "        ce_loss = nn.CrossEntropyLoss(reduction='none')(inputs, targets)\n",
        "        pt = torch.exp(-ce_loss)\n",
        "        focal_loss = self.alpha * (1 - pt) ** self.gamma * ce_loss\n",
        "        return focal_loss.mean() if self.reduction == 'mean' else focal_loss.sum()\n",
        "\n",
        "class CustomModel(nn.Module):\n",
        "    def __init__(self, model_name, num_labels):\n",
        "        super(CustomModel, self).__init__()\n",
        "        self.model = AutoModelForSequenceClassification.from_pretrained(model_name, num_labels=num_labels)\n",
        "        self.loss_fn = FocalLoss()\n",
        "\n",
        "    def forward(self, input_ids=None, attention_mask=None, labels=None):\n",
        "        outputs = self.model(input_ids=input_ids, attention_mask=attention_mask)\n",
        "        logits = outputs.logits\n",
        "        loss = None\n",
        "        if labels is not None:\n",
        "            loss = self.loss_fn(logits, labels)\n",
        "        return {'loss': loss, 'logits': logits}\n",
        "\n",
        "model = CustomModel('bert-base-uncased', num_labels=num_labels)\n"
      ],
      "metadata": {
        "colab": {
          "base_uri": "https://localhost:8080/",
          "height": 142,
          "referenced_widgets": [
            "af59743a1aee4091ac03115d031865bd",
            "7c4eeeb3308740c3b107a39a3d6171c1",
            "ea264b5df40447b182d7762d296456d9",
            "b124ed7090534b71b1863435ee94bd37",
            "ffb5781d3fbe419990e46c55d8ca5f08",
            "3ab4c65ca75c48e887b4cc03e4662f7f",
            "41baf4e33466447094e1c22b1f019024",
            "5a3360c27dd04e61939ea48e24ff0410",
            "1a2e4ee1b131495ea1a74181b67827ae",
            "5fbe99d77dd64a8d9ea5f9aee01d8ace",
            "2c493c44a28a4197b28ed84fa0d841f2"
          ]
        },
        "id": "s5Nw__0Czi2k",
        "outputId": "51464c90-28a4-4090-bbdb-6d275f497f2c"
      },
      "execution_count": 15,
      "outputs": [
        {
          "output_type": "stream",
          "name": "stderr",
          "text": [
            "Xet Storage is enabled for this repo, but the 'hf_xet' package is not installed. Falling back to regular HTTP download. For better performance, install the package with: `pip install huggingface_hub[hf_xet]` or `pip install hf_xet`\n",
            "WARNING:huggingface_hub.file_download:Xet Storage is enabled for this repo, but the 'hf_xet' package is not installed. Falling back to regular HTTP download. For better performance, install the package with: `pip install huggingface_hub[hf_xet]` or `pip install hf_xet`\n"
          ]
        },
        {
          "output_type": "display_data",
          "data": {
            "text/plain": [
              "model.safetensors:   0%|          | 0.00/440M [00:00<?, ?B/s]"
            ],
            "application/vnd.jupyter.widget-view+json": {
              "version_major": 2,
              "version_minor": 0,
              "model_id": "af59743a1aee4091ac03115d031865bd"
            }
          },
          "metadata": {}
        },
        {
          "output_type": "stream",
          "name": "stderr",
          "text": [
            "Some weights of BertForSequenceClassification were not initialized from the model checkpoint at bert-base-uncased and are newly initialized: ['classifier.bias', 'classifier.weight']\n",
            "You should probably TRAIN this model on a down-stream task to be able to use it for predictions and inference.\n"
          ]
        }
      ]
    },
    {
      "cell_type": "markdown",
      "source": [
        "## Compute Metrics"
      ],
      "metadata": {
        "id": "ysCKsGUfz8cw"
      }
    },
    {
      "cell_type": "code",
      "source": [
        "import evaluate\n",
        "import numpy as np\n",
        "\n",
        "# Load required metrics\n",
        "accuracy_metric = evaluate.load(\"accuracy\")\n",
        "precision_metric = evaluate.load(\"precision\")\n",
        "recall_metric = evaluate.load(\"recall\")\n",
        "f1_metric = evaluate.load(\"f1\")\n",
        "\n",
        "# Define compute_metrics using evaluate\n",
        "def compute_metrics(eval_pred):\n",
        "    logits, labels = eval_pred\n",
        "    predictions = np.argmax(logits, axis=-1)\n",
        "\n",
        "    # Compute individual metrics\n",
        "    accuracy = accuracy_metric.compute(predictions=predictions, references=labels)\n",
        "    macro_precision = precision_metric.compute(predictions=predictions, references=labels, average=\"macro\")\n",
        "    macro_recall = recall_metric.compute(predictions=predictions, references=labels, average=\"macro\")\n",
        "    macro_f1 = f1_metric.compute(predictions=predictions, references=labels, average=\"macro\")\n",
        "\n",
        "    weighted_precision = precision_metric.compute(predictions=predictions, references=labels, average=\"weighted\")\n",
        "    weighted_recall = recall_metric.compute(predictions=predictions, references=labels, average=\"weighted\")\n",
        "    weighted_f1 = f1_metric.compute(predictions=predictions, references=labels, average=\"weighted\")\n",
        "\n",
        "    # Combine all into one dictionary\n",
        "    return {\n",
        "        \"accuracy\": accuracy[\"accuracy\"],\n",
        "        \"macro_precision\": macro_precision[\"precision\"],\n",
        "        \"macro_recall\": macro_recall[\"recall\"],\n",
        "        \"macro_f1\": macro_f1[\"f1\"],\n",
        "        \"weighted_precision\": weighted_precision[\"precision\"],\n",
        "        \"weighted_recall\": weighted_recall[\"recall\"],\n",
        "        \"weighted_f1\": weighted_f1[\"f1\"]\n",
        "    }"
      ],
      "metadata": {
        "id": "1TEUpUP4z3V8",
        "colab": {
          "base_uri": "https://localhost:8080/",
          "height": 145,
          "referenced_widgets": [
            "142c89200d0c43ecb1efbe7ab9cec9f9",
            "9056770e50db430bb493464d0fe621ac",
            "7b10e1549cf54c168220de7f650153cf",
            "aaca488a8852495fa55fe143ac7a1686",
            "4b47c79e3853401fbd624cc294b84948",
            "548c0a6812d84b3a9a296341f0cda16d",
            "3cfb5b2c9c6c43a69c01c3aa398763ec",
            "f89e7c2cf23644e4b004175e9153bb03",
            "3be44737381f4db6b418627608269c4c",
            "358be58b01e74e049d46649a061027f0",
            "8888cef0047042309e59dbedb7aade0b",
            "49422f067fb141f19b849fd95e4b14fe",
            "969a78a1d6f442bb9a548682790d23a9",
            "5d23ca7f98494118b0687999f7eb6ba9",
            "2ccb8c6221884782a1c932858b9d8d5a",
            "d80062d1372543edb2df403f21a4f3e4",
            "741bb534ded943b892a91469abfeb8f0",
            "99a85a1e4e384b19802a4015beebdf41",
            "b801588016cf49b784274c61b3cf54af",
            "ff13466663f043f3b3f59c1fc1daa54e",
            "424118da6fc34ab3be97186719c18d31",
            "c9930243944e4971b9f9ea879a403d30",
            "acaf4701e322497c95c28dcda4c12408",
            "59768412538f4cca93d748f2f69980d9",
            "d1913dec4a6c4413b859b0ca726e483f",
            "25eb828d0f984287bcd2e36f2665ad34",
            "7880e92604fd4823baa6ec51d4ce9f7a",
            "030a33ce27174feb9c749bf1806c5e86",
            "84633434ea114371b1c5e9b58d706add",
            "46b820b3872d4f5b82c6dfced2687f4e",
            "8479840cb7f54a18bb85503e5d76e4a1",
            "ebbfcc93d7664b128fccdef5eb91b820",
            "17fbaf97b11f4f56a22c0763fa4fb853",
            "d12008885e4d4821827a5a5b6de661f9",
            "b91bf2f39cd64776aa8b99d0b729aa2b",
            "8d67170ea2974f479fbb969b44e1795d",
            "a23632c76e464592976315d2300e3cca",
            "e71b1e47cdb0404a95a542a53b53d5bc",
            "918949a7e9e741bd8d4837045eea5a3d",
            "5acab764c8434cd98757dff1e58191db",
            "68d232c7a16c40a28ff0b734b8db0829",
            "31d1f449c68b44e3a9850dbb827522f8",
            "80e11b5c305a42f1adb2092531df57a5",
            "519723d941094154b7a6fde9871e4b78"
          ]
        },
        "outputId": "6eac18c2-4789-466c-bb7c-12d8889a8e8e"
      },
      "execution_count": 16,
      "outputs": [
        {
          "output_type": "display_data",
          "data": {
            "text/plain": [
              "Downloading builder script:   0%|          | 0.00/4.20k [00:00<?, ?B/s]"
            ],
            "application/vnd.jupyter.widget-view+json": {
              "version_major": 2,
              "version_minor": 0,
              "model_id": "142c89200d0c43ecb1efbe7ab9cec9f9"
            }
          },
          "metadata": {}
        },
        {
          "output_type": "display_data",
          "data": {
            "text/plain": [
              "Downloading builder script:   0%|          | 0.00/7.56k [00:00<?, ?B/s]"
            ],
            "application/vnd.jupyter.widget-view+json": {
              "version_major": 2,
              "version_minor": 0,
              "model_id": "49422f067fb141f19b849fd95e4b14fe"
            }
          },
          "metadata": {}
        },
        {
          "output_type": "display_data",
          "data": {
            "text/plain": [
              "Downloading builder script:   0%|          | 0.00/7.38k [00:00<?, ?B/s]"
            ],
            "application/vnd.jupyter.widget-view+json": {
              "version_major": 2,
              "version_minor": 0,
              "model_id": "acaf4701e322497c95c28dcda4c12408"
            }
          },
          "metadata": {}
        },
        {
          "output_type": "display_data",
          "data": {
            "text/plain": [
              "Downloading builder script:   0%|          | 0.00/6.79k [00:00<?, ?B/s]"
            ],
            "application/vnd.jupyter.widget-view+json": {
              "version_major": 2,
              "version_minor": 0,
              "model_id": "d12008885e4d4821827a5a5b6de661f9"
            }
          },
          "metadata": {}
        }
      ]
    },
    {
      "cell_type": "markdown",
      "source": [
        "## Training Arguments"
      ],
      "metadata": {
        "id": "j8e2FjDb3sx7"
      }
    },
    {
      "cell_type": "code",
      "source": [
        "args = TrainingArguments(\n",
        "    output_dir=\"results\",\n",
        "    eval_strategy=\"epoch\",\n",
        "    save_strategy=\"epoch\",\n",
        "    learning_rate=2e-5,\n",
        "    per_device_train_batch_size=16,\n",
        "    per_device_eval_batch_size=16,\n",
        "    num_train_epochs=3,\n",
        "    weight_decay=0.01,\n",
        "    logging_dir=\"./logs\",\n",
        "    logging_strategy=\"epoch\",\n",
        "    load_best_model_at_end=True,\n",
        "    metric_for_best_model=\"macro_f1\",\n",
        "    greater_is_better=True,\n",
        "    report_to=\"none\",\n",
        ")\n"
      ],
      "metadata": {
        "id": "vedizrvIz_G7"
      },
      "execution_count": 17,
      "outputs": []
    },
    {
      "cell_type": "code",
      "source": [
        "tokenized['train']"
      ],
      "metadata": {
        "colab": {
          "base_uri": "https://localhost:8080/"
        },
        "id": "n9uECOFW2V8c",
        "outputId": "8263b0ea-62c0-4060-d896-664c8a40b12c"
      },
      "execution_count": 18,
      "outputs": [
        {
          "output_type": "execute_result",
          "data": {
            "text/plain": [
              "Dataset({\n",
              "    features: ['text', 'labels', 'input_ids', 'token_type_ids', 'attention_mask'],\n",
              "    num_rows: 12000\n",
              "})"
            ]
          },
          "metadata": {},
          "execution_count": 18
        }
      ]
    },
    {
      "cell_type": "markdown",
      "source": [
        "## Train Model"
      ],
      "metadata": {
        "id": "H1afOacR33qu"
      }
    },
    {
      "cell_type": "code",
      "source": [
        "\n",
        "trainer = Trainer(\n",
        "    model=model,\n",
        "    args=args,\n",
        "    train_dataset=tokenized['train'],\n",
        "    eval_dataset=tokenized['validate'],\n",
        "    tokenizer=tokenizer,\n",
        "    data_collator=data_collator,\n",
        "    compute_metrics=compute_metrics\n",
        ")\n",
        "\n"
      ],
      "metadata": {
        "colab": {
          "base_uri": "https://localhost:8080/"
        },
        "id": "Udg5KlhC0IdO",
        "outputId": "beded082-8c5d-4804-ccb3-53826e1126b5"
      },
      "execution_count": 19,
      "outputs": [
        {
          "output_type": "stream",
          "name": "stderr",
          "text": [
            "<ipython-input-19-f84b55245bdb>:1: FutureWarning: `tokenizer` is deprecated and will be removed in version 5.0.0 for `Trainer.__init__`. Use `processing_class` instead.\n",
            "  trainer = Trainer(\n"
          ]
        }
      ]
    },
    {
      "cell_type": "code",
      "source": [
        "trainer.train()"
      ],
      "metadata": {
        "colab": {
          "base_uri": "https://localhost:8080/",
          "height": 372
        },
        "id": "xIuH5z1D0KUF",
        "outputId": "c81f9594-de62-4543-de68-1b5b5f336549"
      },
      "execution_count": 20,
      "outputs": [
        {
          "output_type": "display_data",
          "data": {
            "text/plain": [
              "<IPython.core.display.HTML object>"
            ],
            "text/html": [
              "\n",
              "    <div>\n",
              "      \n",
              "      <progress value='2250' max='2250' style='width:300px; height:20px; vertical-align: middle;'></progress>\n",
              "      [2250/2250 05:12, Epoch 3/3]\n",
              "    </div>\n",
              "    <table border=\"1\" class=\"dataframe\">\n",
              "  <thead>\n",
              " <tr style=\"text-align: left;\">\n",
              "      <th>Epoch</th>\n",
              "      <th>Training Loss</th>\n",
              "      <th>Validation Loss</th>\n",
              "      <th>Accuracy</th>\n",
              "      <th>Macro Precision</th>\n",
              "      <th>Macro Recall</th>\n",
              "      <th>Macro F1</th>\n",
              "      <th>Weighted Precision</th>\n",
              "      <th>Weighted Recall</th>\n",
              "      <th>Weighted F1</th>\n",
              "    </tr>\n",
              "  </thead>\n",
              "  <tbody>\n",
              "    <tr>\n",
              "      <td>1</td>\n",
              "      <td>0.076400</td>\n",
              "      <td>0.072791</td>\n",
              "      <td>0.902500</td>\n",
              "      <td>0.451250</td>\n",
              "      <td>0.500000</td>\n",
              "      <td>0.474376</td>\n",
              "      <td>0.814506</td>\n",
              "      <td>0.902500</td>\n",
              "      <td>0.856248</td>\n",
              "    </tr>\n",
              "    <tr>\n",
              "      <td>2</td>\n",
              "      <td>0.072900</td>\n",
              "      <td>0.072708</td>\n",
              "      <td>0.902500</td>\n",
              "      <td>0.451250</td>\n",
              "      <td>0.500000</td>\n",
              "      <td>0.474376</td>\n",
              "      <td>0.814506</td>\n",
              "      <td>0.902500</td>\n",
              "      <td>0.856248</td>\n",
              "    </tr>\n",
              "    <tr>\n",
              "      <td>3</td>\n",
              "      <td>0.071100</td>\n",
              "      <td>0.074409</td>\n",
              "      <td>0.902750</td>\n",
              "      <td>0.951363</td>\n",
              "      <td>0.501282</td>\n",
              "      <td>0.476996</td>\n",
              "      <td>0.912210</td>\n",
              "      <td>0.902750</td>\n",
              "      <td>0.856860</td>\n",
              "    </tr>\n",
              "  </tbody>\n",
              "</table><p>"
            ]
          },
          "metadata": {}
        },
        {
          "output_type": "stream",
          "name": "stderr",
          "text": [
            "/usr/local/lib/python3.11/dist-packages/sklearn/metrics/_classification.py:1565: UndefinedMetricWarning: Precision is ill-defined and being set to 0.0 in labels with no predicted samples. Use `zero_division` parameter to control this behavior.\n",
            "  _warn_prf(average, modifier, f\"{metric.capitalize()} is\", len(result))\n",
            "/usr/local/lib/python3.11/dist-packages/sklearn/metrics/_classification.py:1565: UndefinedMetricWarning: Precision is ill-defined and being set to 0.0 in labels with no predicted samples. Use `zero_division` parameter to control this behavior.\n",
            "  _warn_prf(average, modifier, f\"{metric.capitalize()} is\", len(result))\n",
            "/usr/local/lib/python3.11/dist-packages/sklearn/metrics/_classification.py:1565: UndefinedMetricWarning: Precision is ill-defined and being set to 0.0 in labels with no predicted samples. Use `zero_division` parameter to control this behavior.\n",
            "  _warn_prf(average, modifier, f\"{metric.capitalize()} is\", len(result))\n",
            "/usr/local/lib/python3.11/dist-packages/sklearn/metrics/_classification.py:1565: UndefinedMetricWarning: Precision is ill-defined and being set to 0.0 in labels with no predicted samples. Use `zero_division` parameter to control this behavior.\n",
            "  _warn_prf(average, modifier, f\"{metric.capitalize()} is\", len(result))\n"
          ]
        },
        {
          "output_type": "execute_result",
          "data": {
            "text/plain": [
              "TrainOutput(global_step=2250, training_loss=0.07346567959255643, metrics={'train_runtime': 314.3363, 'train_samples_per_second': 114.527, 'train_steps_per_second': 7.158, 'total_flos': 0.0, 'train_loss': 0.07346567959255643, 'epoch': 3.0})"
            ]
          },
          "metadata": {},
          "execution_count": 20
        }
      ]
    },
    {
      "cell_type": "markdown",
      "source": [
        "## Evaluate Model"
      ],
      "metadata": {
        "id": "oyn4JB0Sn1OT"
      }
    },
    {
      "cell_type": "code",
      "source": [
        "trainer.evaluate()"
      ],
      "metadata": {
        "colab": {
          "base_uri": "https://localhost:8080/",
          "height": 256
        },
        "id": "ZbN_Advy2jad",
        "outputId": "3a46e8b0-2f5d-4411-991b-6c13094d70e3"
      },
      "execution_count": 21,
      "outputs": [
        {
          "output_type": "display_data",
          "data": {
            "text/plain": [
              "<IPython.core.display.HTML object>"
            ],
            "text/html": [
              "\n",
              "    <div>\n",
              "      \n",
              "      <progress value='250' max='250' style='width:300px; height:20px; vertical-align: middle;'></progress>\n",
              "      [250/250 00:06]\n",
              "    </div>\n",
              "    "
            ]
          },
          "metadata": {}
        },
        {
          "output_type": "execute_result",
          "data": {
            "text/plain": [
              "{'eval_loss': 0.07440853118896484,\n",
              " 'eval_accuracy': 0.90275,\n",
              " 'eval_macro_precision': 0.9513628407101775,\n",
              " 'eval_macro_recall': 0.5012820512820513,\n",
              " 'eval_macro_f1': 0.47699571008756286,\n",
              " 'eval_weighted_precision': 0.9122099274818706,\n",
              " 'eval_weighted_recall': 0.90275,\n",
              " 'eval_weighted_f1': 0.8568596096492275,\n",
              " 'eval_runtime': 6.8467,\n",
              " 'eval_samples_per_second': 584.224,\n",
              " 'eval_steps_per_second': 36.514,\n",
              " 'epoch': 3.0}"
            ]
          },
          "metadata": {},
          "execution_count": 21
        }
      ]
    },
    {
      "cell_type": "code",
      "source": [
        "trainer.state.best_model_checkpoint"
      ],
      "metadata": {
        "colab": {
          "base_uri": "https://localhost:8080/",
          "height": 36
        },
        "id": "PlKNPd-Z2o9d",
        "outputId": "12a266d1-7251-4139-da5f-79bc44cbf3d6"
      },
      "execution_count": 22,
      "outputs": [
        {
          "output_type": "execute_result",
          "data": {
            "text/plain": [
              "'results/checkpoint-2250'"
            ],
            "application/vnd.google.colaboratory.intrinsic+json": {
              "type": "string"
            }
          },
          "metadata": {},
          "execution_count": 22
        }
      ]
    },
    {
      "cell_type": "code",
      "source": [
        "test_metrics = trainer.evaluate(eval_dataset= tokenized['test'])\n",
        "print(test_metrics)"
      ],
      "metadata": {
        "colab": {
          "base_uri": "https://localhost:8080/",
          "height": 75
        },
        "id": "oDU-MDFS2o7b",
        "outputId": "f2982893-65f6-49af-9b3b-66f7f9b628ca"
      },
      "execution_count": 23,
      "outputs": [
        {
          "output_type": "display_data",
          "data": {
            "text/plain": [
              "<IPython.core.display.HTML object>"
            ],
            "text/html": [
              "\n",
              "    <div>\n",
              "      \n",
              "      <progress value='500' max='250' style='width:300px; height:20px; vertical-align: middle;'></progress>\n",
              "      [250/250 00:24]\n",
              "    </div>\n",
              "    "
            ]
          },
          "metadata": {}
        },
        {
          "output_type": "stream",
          "name": "stdout",
          "text": [
            "{'eval_loss': 0.07734675705432892, 'eval_accuracy': 0.8955, 'eval_macro_precision': 0.4479739869934968, 'eval_macro_recall': 0.49972098214285715, 'eval_macro_f1': 0.47243471379583224, 'eval_weighted_precision': 0.8027693846923462, 'eval_weighted_recall': 0.8955, 'eval_weighted_f1': 0.8466030071221314, 'eval_runtime': 7.3923, 'eval_samples_per_second': 541.102, 'eval_steps_per_second': 33.819, 'epoch': 3.0}\n"
          ]
        }
      ]
    },
    {
      "cell_type": "code",
      "source": [
        "trainer.predict(tokenized['test'])"
      ],
      "metadata": {
        "colab": {
          "base_uri": "https://localhost:8080/",
          "height": 181
        },
        "id": "nfiX8l9AVQOz",
        "outputId": "49fd0661-14fe-4929-c3ea-762b39a4541f"
      },
      "execution_count": 24,
      "outputs": [
        {
          "output_type": "display_data",
          "data": {
            "text/plain": [
              "<IPython.core.display.HTML object>"
            ],
            "text/html": []
          },
          "metadata": {}
        },
        {
          "output_type": "execute_result",
          "data": {
            "text/plain": [
              "PredictionOutput(predictions=array([[ 0.51126283, -0.6046621 ],\n",
              "       [ 0.82655483, -1.1223257 ],\n",
              "       [ 0.22874683, -0.54600227],\n",
              "       ...,\n",
              "       [ 0.31745642, -0.5697221 ],\n",
              "       [ 0.5379482 , -0.3581267 ],\n",
              "       [-0.03276927, -0.21143113]], dtype=float32), label_ids=array([0, 0, 0, ..., 0, 0, 0]), metrics={'test_loss': 0.07734675705432892, 'test_accuracy': 0.8955, 'test_macro_precision': 0.4479739869934968, 'test_macro_recall': 0.49972098214285715, 'test_macro_f1': 0.47243471379583224, 'test_weighted_precision': 0.8027693846923462, 'test_weighted_recall': 0.8955, 'test_weighted_f1': 0.8466030071221314, 'test_runtime': 7.1016, 'test_samples_per_second': 563.253, 'test_steps_per_second': 35.203})"
            ]
          },
          "metadata": {},
          "execution_count": 24
        }
      ]
    },
    {
      "cell_type": "markdown",
      "source": [
        "## ROC Curve"
      ],
      "metadata": {
        "id": "UdUfbLurn5L6"
      }
    },
    {
      "cell_type": "code",
      "source": [
        "import numpy as np\n",
        "import matplotlib.pyplot as plt\n",
        "from sklearn.metrics import roc_curve, auc\n",
        "\n",
        "predictions = trainer.predict(tokenized['test'])\n",
        "\n",
        "logits = predictions.predictions\n",
        "label_ids = predictions.label_ids\n",
        "\n",
        "# Step 1: Apply softmax to convert logits to probabilities\n",
        "from scipy.special import softmax\n",
        "probs = softmax(logits, axis=1)\n",
        "positive_class_probs = probs[:, 1]  # probability of class 1\n",
        "\n",
        "# Step 2: Compute ROC curve and AUC\n",
        "fpr, tpr, thresholds = roc_curve(predictions.label_ids, positive_class_probs)\n",
        "roc_auc = auc(fpr, tpr)\n",
        "\n",
        "# Step 3: Plot the ROC Curve\n",
        "plt.figure(figsize=(8, 6))\n",
        "plt.plot(fpr, tpr, color='darkorange', lw=2, label=f'ROC curve (AUC = {roc_auc:.2f})')\n",
        "plt.plot([0, 1], [0, 1], color='navy', lw=2, linestyle='--')  # diagonal line\n",
        "plt.xlim([0.0, 1.0])\n",
        "plt.ylim([0.0, 1.05])\n",
        "plt.xlabel('False Positive Rate')\n",
        "plt.ylabel('True Positive Rate')\n",
        "plt.title('Receiver Operating Characteristic - Binary Classification')\n",
        "plt.legend(loc=\"lower right\")\n",
        "plt.grid(True)\n",
        "plt.show()\n",
        "\n",
        "print(\"-----------------------------------------------------------------------------------------\")\n",
        "print(\"X-Axis: False Positive Rate (FPR) = FP / FP+TN\")\n",
        "print(\"Y-Axis: True Positive Rate (TPR) (also called Recall or Sensitivity) = TP / TP+FN\")"
      ],
      "metadata": {
        "colab": {
          "base_uri": "https://localhost:8080/",
          "height": 619
        },
        "id": "myQhe_ZxPJbD",
        "outputId": "b0dc24c3-48af-4bb1-d924-ddbbb2fc172a"
      },
      "execution_count": 25,
      "outputs": [
        {
          "output_type": "display_data",
          "data": {
            "text/plain": [
              "<IPython.core.display.HTML object>"
            ],
            "text/html": []
          },
          "metadata": {}
        },
        {
          "output_type": "display_data",
          "data": {
            "text/plain": [
              "<Figure size 800x600 with 1 Axes>"
            ],
            "image/png": "[encoded data removed]"
          },
          "metadata": {}
        },
        {
          "output_type": "stream",
          "name": "stdout",
          "text": [
            "-----------------------------------------------------------------------------------------\n",
            "X-Axis: False Positive Rate (FPR) = FP / FP+TN\n",
            "Y-Axis: True Positive Rate (TPR) (also called Recall or Sensitivity) = TP / TP+FN\n"
          ]
        }
      ]
    },
    {
      "cell_type": "code",
      "source": [
        " predictions.predictions"
      ],
      "metadata": {
        "colab": {
          "base_uri": "https://localhost:8080/"
        },
        "id": "FYmZ7MFjStSe",
        "outputId": "58b76c82-ab57-4482-8e93-9dc5647d90e8"
      },
      "execution_count": 26,
      "outputs": [
        {
          "output_type": "execute_result",
          "data": {
            "text/plain": [
              "array([[ 0.51126283, -0.6046621 ],\n",
              "       [ 0.82655483, -1.1223257 ],\n",
              "       [ 0.22874683, -0.54600227],\n",
              "       ...,\n",
              "       [ 0.31745642, -0.5697221 ],\n",
              "       [ 0.5379482 , -0.3581267 ],\n",
              "       [-0.03276927, -0.21143113]], dtype=float32)"
            ]
          },
          "metadata": {},
          "execution_count": 26
        }
      ]
    },
    {
      "cell_type": "code",
      "source": [
        "predictions.label_ids"
      ],
      "metadata": {
        "colab": {
          "base_uri": "https://localhost:8080/"
        },
        "id": "3NMBEmp6SmCK",
        "outputId": "c2435321-95b0-4b75-a715-3070d9800cdb"
      },
      "execution_count": 27,
      "outputs": [
        {
          "output_type": "execute_result",
          "data": {
            "text/plain": [
              "array([0, 0, 0, ..., 0, 0, 0])"
            ]
          },
          "metadata": {},
          "execution_count": 27
        }
      ]
    },
    {
      "cell_type": "markdown",
      "source": [
        "## Precision-Recall Curve"
      ],
      "metadata": {
        "id": "Pe9t2oTAoPOl"
      }
    },
    {
      "cell_type": "code",
      "source": [
        "import numpy as np\n",
        "import matplotlib.pyplot as plt\n",
        "from sklearn.metrics import precision_recall_curve, average_precision_score\n",
        "\n",
        "# Step 1: Apply softmax to convert logits to probabilities\n",
        "from scipy.special import softmax\n",
        "probs = softmax(logits, axis=1)\n",
        "positive_class_probs = probs[:, 1]  # Probability of class 1 (positive class)\n",
        "\n",
        "# Step 2: Compute Precision-Recall curve and Average Precision (AP)\n",
        "precision, recall, thresholds = precision_recall_curve(label_ids, positive_class_probs)\n",
        "average_precision = average_precision_score(label_ids, positive_class_probs)\n",
        "\n",
        "# Step 3: Plot the Precision-Recall Curve\n",
        "plt.figure(figsize=(8, 6))\n",
        "plt.plot(recall, precision, color='b', lw=2, label=f'PR curve (AP = {average_precision:.2f})')\n",
        "plt.xlabel('Recall')\n",
        "plt.ylabel('Precision')\n",
        "plt.title('Precision-Recall Curve - Binary Classification')\n",
        "plt.legend(loc=\"lower left\")\n",
        "plt.grid(True)\n",
        "plt.show()\n",
        "\n",
        "print(\"-----------------------------------------------------------------------------------------\")\n",
        "print(\"X-Axis: True Positive Rate (TPR) (also called Recall or Sensitivity) = TP / TP+FN\")\n",
        "print(\"Y-Axis: Precision = TP / TP+FP\")\n",
        "\n",
        "print(\"\\nPrecision and Recall at different thresholds:\")\n",
        "for t in [0.1, 0.2, 0.3, 0.4, 0.5, 0.6, 0.7, 0.8, 0.9]:\n",
        "    idx = np.argmax(thresholds >= t)\n",
        "    if idx < len(precision):\n",
        "        print(f\"Threshold: {t:.1f} | Precision: {precision[idx]:.2f}, Recall: {recall[idx]:.2f}\")"
      ],
      "metadata": {
        "colab": {
          "base_uri": "https://localhost:8080/",
          "height": 819
        },
        "id": "L9B0uyWOoIXF",
        "outputId": "ea3d2309-e6e6-4d89-bf81-e4e6ce689dc1"
      },
      "execution_count": 28,
      "outputs": [
        {
          "output_type": "display_data",
          "data": {
            "text/plain": [
              "<Figure size 800x600 with 1 Axes>"
            ],
            "image/png": "[encoded data removed]"
          },
          "metadata": {}
        },
        {
          "output_type": "stream",
          "name": "stdout",
          "text": [
            "-----------------------------------------------------------------------------------------\n",
            "X-Axis: True Positive Rate (TPR) (also called Recall or Sensitivity) = TP / TP+FN\n",
            "Y-Axis: Precision = TP / TP+FP\n",
            "\n",
            "Precision and Recall at different thresholds:\n",
            "Threshold: 0.1 | Precision: 0.10, Recall: 1.00\n",
            "Threshold: 0.2 | Precision: 0.16, Recall: 0.93\n",
            "Threshold: 0.3 | Precision: 0.20, Recall: 0.63\n",
            "Threshold: 0.4 | Precision: 0.40, Recall: 0.45\n",
            "Threshold: 0.5 | Precision: 0.00, Recall: 0.00\n",
            "Threshold: 0.6 | Precision: 0.10, Recall: 1.00\n",
            "Threshold: 0.7 | Precision: 0.10, Recall: 1.00\n",
            "Threshold: 0.8 | Precision: 0.10, Recall: 1.00\n",
            "Threshold: 0.9 | Precision: 0.10, Recall: 1.00\n"
          ]
        }
      ]
    },
    {
      "cell_type": "markdown",
      "source": [
        "## F1 vs Threshold Curve"
      ],
      "metadata": {
        "id": "yqpdOfkwoYuP"
      }
    },
    {
      "cell_type": "code",
      "source": [
        "# Step 5: Plot F1 score vs threshold\n",
        "f1_scores = 2 * (precision * recall) / (precision + recall + 1e-8)\n",
        "\n",
        "plt.figure(figsize=(8, 6))\n",
        "plt.plot(thresholds, f1_scores[:-1], label=\"F1 Score\", color='darkorange')\n",
        "plt.xlabel(\"Threshold\")\n",
        "plt.ylabel(\"F1 Score\")\n",
        "plt.title(\"F1 Score vs Threshold\")\n",
        "plt.grid(True)\n",
        "plt.legend()\n",
        "plt.show()\n",
        "\n",
        "# Step 6: Best F1 and corresponding threshold\n",
        "best_idx = np.argmax(f1_scores[:-1])  # exclude final point which has no threshold\n",
        "print(f\"\\nBest F1 = {f1_scores[best_idx]:.2f} at threshold \u2248 {thresholds[best_idx]:.2f}\")"
      ],
      "metadata": {
        "colab": {
          "base_uri": "https://localhost:8080/",
          "height": 600
        },
        "id": "BlnpkOAeoIUz",
        "outputId": "e63353f0-2619-4396-9061-d20479b6e33c"
      },
      "execution_count": 29,
      "outputs": [
        {
          "output_type": "display_data",
          "data": {
            "text/plain": [
              "<Figure size 800x600 with 1 Axes>"
            ],
            "image/png": "[encoded data removed]"
          },
          "metadata": {}
        },
        {
          "output_type": "stream",
          "name": "stdout",
          "text": [
            "\n",
            "Best F1 = 0.42 at threshold \u2248 0.39\n"
          ]
        }
      ]
    },
    {
      "cell_type": "markdown",
      "source": [
        "## Confusion matrix"
      ],
      "metadata": {
        "id": "zdlCLq7f37fk"
      }
    },
    {
      "cell_type": "code",
      "source": [
        "from collections import Counter\n",
        "\n",
        "# Convert each label tensor to a plain integer\n",
        "labels = [int(label) for label in tokenized['test'][\"labels\"]]\n",
        "\n",
        "# Now count them\n",
        "label_counts = Counter(labels)\n",
        "\n",
        "# Print the results nicely\n",
        "print(label_counts)"
      ],
      "metadata": {
        "colab": {
          "base_uri": "https://localhost:8080/"
        },
        "id": "5q4OL-rQGw0F",
        "outputId": "b57f0391-cac3-4664-ad8d-c5772c3b8ae0"
      },
      "execution_count": 30,
      "outputs": [
        {
          "output_type": "stream",
          "name": "stdout",
          "text": [
            "Counter({0: 3584, 1: 416})\n"
          ]
        }
      ]
    },
    {
      "cell_type": "code",
      "source": [
        "import numpy as np\n",
        "import matplotlib.pyplot as plt\n",
        "from sklearn.metrics import confusion_matrix, ConfusionMatrixDisplay\n",
        "\n",
        "# 1. Run prediction on the test set (or validation set)\n",
        "predictions_output = trainer.predict(tokenized[\"test\"])  # or dataset[\"validation\"]\n",
        "\n",
        "# 2. Get predicted labels and true labels\n",
        "y_true = predictions_output.label_ids\n",
        "y_pred = np.argmax(predictions_output.predictions, axis=1)\n",
        "\n",
        "# 3. Compute confusion matrix\n",
        "cm = confusion_matrix(y_true, y_pred)\n",
        "\n",
        "# 4. Optional: Get class names from label encoder if you have one\n",
        "try:\n",
        "    class_names = label_encoder.classes_\n",
        "except:\n",
        "    class_names = [str(i) for i in np.unique(y_true)]\n",
        "\n",
        "# 5. Plot the confusion matrix\n",
        "disp = ConfusionMatrixDisplay(confusion_matrix=cm, display_labels=class_names)\n",
        "disp.plot(cmap=plt.cm.Blues, xticks_rotation=45)\n",
        "plt.title(\"Confusion Matrix\")\n",
        "plt.tight_layout()\n",
        "plt.show()\n",
        "\n",
        "# Unpack confusion matrix\n",
        "tn, fp, fn, tp = cm.ravel()\n",
        "\n",
        "# 6. Compute all evaluation metrics (no 'average' needed!)\n",
        "accuracy_metric = evaluate.load(\"accuracy\")\n",
        "precision_metric = evaluate.load(\"precision\")\n",
        "recall_metric = evaluate.load(\"recall\")\n",
        "f1_metric = evaluate.load(\"f1\")\n",
        "specificity = tn / (tn + fp)\n",
        "false_positive_rate = fp / (fp + tn)\n",
        "false_negative_rate = fn / (fn + tp)\n",
        "npv = tn / (tn + fn)\n",
        "\n",
        "accuracy = accuracy_metric.compute(predictions=y_pred, references=y_true)\n",
        "precision = precision_metric.compute(predictions=y_pred, references=y_true)\n",
        "recall = recall_metric.compute(predictions=y_pred, references=y_true)\n",
        "f1 = f1_metric.compute(predictions=y_pred, references=y_true)\n",
        "\n",
        "# 7. Print metrics\n",
        "print(\"\\n=== Evaluation Metrics ===\")\n",
        "print(\"Accuracy:- Out of all the predictions we made, How many were True.\")\n",
        "print(\"TP+TN / TP+TN+FP+FN\")\n",
        "print(f\"Accuracy:  {accuracy['accuracy']:.4f}\")\n",
        "print(\"-----------------------------------------------\")\n",
        "print(\"Precision:- Out of all the positive predictions we made, How many were True?\")\n",
        "print(\"TP / TP+FP\")\n",
        "print(f\"Precision: {precision['precision']:.4f}\")\n",
        "print(\"-----------------------------------------------\")\n",
        "print(\"Recall:- Out of all the data points that should be predicted as True, How many we correctly predict as True?\")\n",
        "print(\"TP / TP+FN\")\n",
        "print(f\"Recall:    {recall['recall']:.4f}\")\n",
        "print(\"-----------------------------------------------\")\n",
        "print(\"F1 Score:- Harmonic mean of Precision and Recall\")\n",
        "print(\"2 * (Precision * Recall) / (Precision + Recall)\")\n",
        "print(f\"F1 Score:  {f1['f1']:.4f}\")\n",
        "print(\"-----------------------------------------------\")\n",
        "print(\"Specificity:- Out of all the negative predictions we made, How many were True?\")\n",
        "print(\"TN / TN+FP\")\n",
        "print(f\"Specificity: {specificity:.4f}\")\n",
        "print(\"-----------------------------------------------\")\n",
        "print(\"False Positive Rate:- Out of all the negative data points that should be predicted as False, How many we incorrectly predict as True?\")\n",
        "print(\"FP / FP+TN\")\n",
        "print(f\"False Positive Rate: {false_positive_rate:.4f}\")\n",
        "print(\"-----------------------------------------------\")\n",
        "print(\"False Negative Rate:- Out of all the positive data points that should be predicted as True, How many we incorrectly predict as False?\")\n",
        "print(\"FN / FN+TP\")\n",
        "print(f\"False Negative Rate: {false_negative_rate:.4f}\")\n",
        "print(\"-----------------------------------------------\")\n",
        "print(\"Negative Predictive Value:- Out of all the negative predictions we made, How many were True?\")\n",
        "print(\"TN / TN+FN\")\n",
        "print(f\"Negative Predictive Value: {npv:.4f}\")\n",
        "print(\"===============================================\")\n"
      ],
      "metadata": {
        "colab": {
          "base_uri": "https://localhost:8080/",
          "height": 1000
        },
        "id": "xoWLFrZa2zGx",
        "outputId": "b7ae925c-c832-4255-fa43-32eb05e75e33"
      },
      "execution_count": 31,
      "outputs": [
        {
          "output_type": "display_data",
          "data": {
            "text/plain": [
              "<IPython.core.display.HTML object>"
            ],
            "text/html": []
          },
          "metadata": {}
        },
        {
          "output_type": "display_data",
          "data": {
            "text/plain": [
              "<Figure size 640x480 with 2 Axes>"
            ],
            "image/png": "[encoded data removed]"
          },
          "metadata": {}
        },
        {
          "output_type": "stream",
          "name": "stdout",
          "text": [
            "\n",
            "=== Evaluation Metrics ===\n",
            "Accuracy:- Out of all the predictions we made, How many were True.\n",
            "TP+TN / TP+TN+FP+FN\n",
            "Accuracy:  0.8955\n",
            "-----------------------------------------------\n",
            "Precision:- Out of all the positive predictions we made, How many were True?\n",
            "TP / TP+FP\n",
            "Precision: 0.0000\n",
            "-----------------------------------------------\n",
            "Recall:- Out of all the data points that should be predicted as True, How many we correctly predict as True?\n",
            "TP / TP+FN\n",
            "Recall:    0.0000\n",
            "-----------------------------------------------\n",
            "F1 Score:- Harmonic mean of Precision and Recall\n",
            "2 * (Precision * Recall) / (Precision + Recall)\n",
            "F1 Score:  0.0000\n",
            "-----------------------------------------------\n",
            "Specificity:- Out of all the negative predictions we made, How many were True?\n",
            "TN / TN+FP\n",
            "Specificity: 0.9994\n",
            "-----------------------------------------------\n",
            "False Positive Rate:- Out of all the negative data points that should be predicted as False, How many we incorrectly predict as True?\n",
            "FP / FP+TN\n",
            "False Positive Rate: 0.0006\n",
            "-----------------------------------------------\n",
            "False Negative Rate:- Out of all the positive data points that should be predicted as True, How many we incorrectly predict as False?\n",
            "FN / FN+TP\n",
            "False Negative Rate: 1.0000\n",
            "-----------------------------------------------\n",
            "Negative Predictive Value:- Out of all the negative predictions we made, How many were True?\n",
            "TN / TN+FN\n",
            "Negative Predictive Value: 0.8959\n",
            "===============================================\n"
          ]
        }
      ]
    },
    {
      "cell_type": "code",
      "source": [
        "import numpy as np\n",
        "from IPython.display import display, Markdown\n",
        "\n",
        "# Get the original texts (assumes dataset[\"test\"] is a Hugging Face Dataset)\n",
        "texts = dataset[\"test\"][\"text\"]  # Change to the correct field name if it's not \"text\"\n",
        "\n",
        "# Categorize indices into TP, TN, FP, FN\n",
        "tp_indices = [i for i in range(len(y_true)) if y_true[i] == 1 and y_pred[i] == 1]\n",
        "tn_indices = [i for i in range(len(y_true)) if y_true[i] == 0 and y_pred[i] == 0]\n",
        "fp_indices = [i for i in range(len(y_true)) if y_true[i] == 0 and y_pred[i] == 1]\n",
        "fn_indices = [i for i in range(len(y_true)) if y_true[i] == 1 and y_pred[i] == 0]\n",
        "\n",
        "# Display a few examples for each case\n",
        "def show_examples(indices, label):\n",
        "    display(Markdown(f\"### \ud83d\udd0d {label} Examples\"))\n",
        "    for i in indices[:3]:  # Show top 3 examples\n",
        "        text = texts[i]\n",
        "        true_label = y_true[i]\n",
        "        pred_label = y_pred[i]\n",
        "        display(Markdown(f\"**Text:** {text}\\n\\n- **True Label:** {true_label}\\n- **Predicted Label:** {pred_label}\\n---\"))\n",
        "\n",
        "# Show them\n",
        "show_examples(tp_indices, \"True Positives\")\n",
        "show_examples(tn_indices, \"True Negatives\")\n",
        "show_examples(fp_indices, \"False Positives\")\n",
        "show_examples(fn_indices, \"False Negatives\")"
      ],
      "metadata": {
        "colab": {
          "base_uri": "https://localhost:8080/",
          "height": 758
        },
        "id": "OlS13gkf2zDx",
        "outputId": "6d38a731-58ff-4717-f548-d8a9ee9dcc23"
      },
      "execution_count": 32,
      "outputs": [
        {
          "output_type": "display_data",
          "data": {
            "text/plain": [
              "<IPython.core.display.Markdown object>"
            ],
            "text/markdown": "### \ud83d\udd0d True Positives Examples"
          },
          "metadata": {}
        },
        {
          "output_type": "display_data",
          "data": {
            "text/plain": [
              "<IPython.core.display.Markdown object>"
            ],
            "text/markdown": "### \ud83d\udd0d True Negatives Examples"
          },
          "metadata": {}
        },
        {
          "output_type": "display_data",
          "data": {
            "text/plain": [
              "<IPython.core.display.Markdown object>"
            ],
            "text/markdown": "**Text:** Amazing quality and superb value! Bought from Thompson-Wilson.\n\n- **True Label:** 0\n- **Predicted Label:** 0\n---"
          },
          "metadata": {}
        },
        {
          "output_type": "display_data",
          "data": {
            "text/plain": [
              "<IPython.core.display.Markdown object>"
            ],
            "text/markdown": "**Text:** Quality control could be better. Purchased from Martin, Oconnor and Wilson on 2025-01-07.\n\n- **True Label:** 0\n- **Predicted Label:** 0\n---"
          },
          "metadata": {}
        },
        {
          "output_type": "display_data",
          "data": {
            "text/plain": [
              "<IPython.core.display.Markdown object>"
            ],
            "text/markdown": "**Text:** Unbelievable performance, can't live without it! Bought from Sparks, Jones and Smith.\n\n- **True Label:** 0\n- **Predicted Label:** 0\n---"
          },
          "metadata": {}
        },
        {
          "output_type": "display_data",
          "data": {
            "text/plain": [
              "<IPython.core.display.Markdown object>"
            ],
            "text/markdown": "### \ud83d\udd0d False Positives Examples"
          },
          "metadata": {}
        },
        {
          "output_type": "display_data",
          "data": {
            "text/plain": [
              "<IPython.core.display.Markdown object>"
            ],
            "text/markdown": "**Text:** Incredible results, totally blown away! Bought via Aguilar Ltd.\n\n- **True Label:** 0\n- **Predicted Label:** 1\n---"
          },
          "metadata": {}
        },
        {
          "output_type": "display_data",
          "data": {
            "text/plain": [
              "<IPython.core.display.Markdown object>"
            ],
            "text/markdown": "**Text:** Outstanding product! Can't recommend it enough. Bought via Davis Inc.\n\n- **True Label:** 0\n- **Predicted Label:** 1\n---"
          },
          "metadata": {}
        },
        {
          "output_type": "display_data",
          "data": {
            "text/plain": [
              "<IPython.core.display.Markdown object>"
            ],
            "text/markdown": "### \ud83d\udd0d False Negatives Examples"
          },
          "metadata": {}
        },
        {
          "output_type": "display_data",
          "data": {
            "text/plain": [
              "<IPython.core.display.Markdown object>"
            ],
            "text/markdown": "**Text:** Works fine, though battery life could be better. Purchased on 2025-01-23.\n\n- **True Label:** 1\n- **Predicted Label:** 0\n---"
          },
          "metadata": {}
        },
        {
          "output_type": "display_data",
          "data": {
            "text/plain": [
              "<IPython.core.display.Markdown object>"
            ],
            "text/markdown": "**Text:** Mediocre quality, acceptable for the cost. Purchased from Jackson-Miller on 2025-01-20.\n\n- **True Label:** 1\n- **Predicted Label:** 0\n---"
          },
          "metadata": {}
        },
        {
          "output_type": "display_data",
          "data": {
            "text/plain": [
              "<IPython.core.display.Markdown object>"
            ],
            "text/markdown": "**Text:** Truly the best purchase I've made this year. Bought via Jones, Burns and Kramer.\n\n- **True Label:** 1\n- **Predicted Label:** 0\n---"
          },
          "metadata": {}
        }
      ]
    },
    {
      "cell_type": "code",
      "source": [],
      "metadata": {
        "id": "0azkEuRs3akH"
      },
      "execution_count": 32,
      "outputs": []
    }
  ]
}